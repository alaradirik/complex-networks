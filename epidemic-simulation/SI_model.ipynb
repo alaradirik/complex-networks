{
 "cells": [
  {
   "cell_type": "code",
   "execution_count": 1,
   "metadata": {},
   "outputs": [],
   "source": [
    "import networkx as nx\n",
    "import matplotlib.pyplot as plt\n",
    "import numpy as np"
   ]
  },
  {
   "cell_type": "code",
   "execution_count": 21,
   "metadata": {},
   "outputs": [],
   "source": [
    "class SIModel:\n",
    "    def __init__(self, n=1000, k=4, beta=0.25):\n",
    "        # Initialize ring lattice\n",
    "        self.network = nx.watts_strogatz_graph(n=n, k=4, p=0, seed=None)\n",
    "        self.n = n\n",
    "        self.k = k\n",
    "        \n",
    "        # Initialize healthy community\n",
    "        for node in self.network.nodes:\n",
    "            self.network.nodes[node]['susceptible'] = True\n",
    "            self.network.nodes[node]['infected'] = False\n",
    "        \n",
    "        self.susceptible = list(self.network.nodes)\n",
    "        self.infected = []\n",
    "        \n",
    "        # Probability of an infected person spreading the disease to a susceptible individual they contacted\n",
    "        self.beta = beta\n",
    "        \n",
    "    def initialize_epidemic(self):\n",
    "        # Assign a single random node as infected and the rest as susceptiple\n",
    "        patient_zero = np.random.choice(list(self.network.nodes))\n",
    "        self.update_infected_susceptible(patient_zero)\n",
    "    \n",
    "    def update_infected_susceptible(self, node):\n",
    "        self.network.nodes[node]['susceptible'] = False\n",
    "        self.network.nodes[node]['infected'] = True\n",
    "        self.infected.append(node)\n",
    "        self.susceptible.remove(node)\n",
    "        \n",
    "    def gets_infected(self, node):\n",
    "        if self.network.nodes[node]['susceptible'] == True:\n",
    "            p = self.beta\n",
    "            gets_infected = np.random.choice([True, False], p=[p, (1-p)])\n",
    "\n",
    "            if gets_infected:\n",
    "                self.update_infected_susceptible(node)\n",
    "                \n",
    "    def update(self):\n",
    "        for node in self.infected:\n",
    "            for n in list(self.network.neighbors(node)):\n",
    "                self.gets_infected(n)\n",
    "    \n",
    "    def visualize_network(self):\n",
    "        # Color infected nodes with red\n",
    "        node_color = []\n",
    "        for node in self.network.nodes:\n",
    "            if self.network.nodes[node]['susceptible'] == True:\n",
    "                node_color.append('blue')\n",
    "            else:\n",
    "                node_color.append('red')\n",
    "                \n",
    "        nx.draw_circular(self.network, node_size=200, with_labels=True, font_color='white', node_color=node_color)"
   ]
  },
  {
   "cell_type": "code",
   "execution_count": null,
   "metadata": {},
   "outputs": [],
   "source": [
    "pop = 5000\n",
    "\n",
    "t_day = []\n",
    "for e in range(10):\n",
    "    model = SIModel(n=pop, beta=0.25)\n",
    "    model.initialize_epidemic()\n",
    "\n",
    "    infected = []\n",
    "    susceptible = []\n",
    "\n",
    "    i = 0\n",
    "    while i < 10000:\n",
    "        if len(model.infected) == pop:\n",
    "            break\n",
    "\n",
    "        infected.append(len(model.infected))\n",
    "        susceptible.append(len(model.susceptible))\n",
    "        model.update()\n",
    "        i += 1\n",
    "\n",
    "    t_day.append(i)"
   ]
  },
  {
   "cell_type": "code",
   "execution_count": null,
   "metadata": {},
   "outputs": [],
   "source": [
    "t = list(range(i))\n",
    "\n",
    "plt.title(\"SI Epidemics Model\")\n",
    "plt.xlabel(\"Days\")\n",
    "plt.ylabel(\"Population\")\n",
    "plt.plot(t, susceptiple, label=\"Susceptible\")\n",
    "plt.plot(t, infected, label = \"Infected\")\n",
    "\n",
    "plt.legend()\n",
    "plt.show()"
   ]
  },
  {
   "cell_type": "code",
   "execution_count": 3,
   "metadata": {},
   "outputs": [],
   "source": [
    "class SIRModel:\n",
    "    def __init__(self, n=1000, k=4, beta=0.25, days_inf=7):\n",
    "        # Initialize ring lattice\n",
    "        self.network = nx.watts_strogatz_graph(n=n, k=4, p=0, seed=None)\n",
    "        self.n = n\n",
    "        self.k = k\n",
    "        \n",
    "        # Initialize healthy community\n",
    "        for node in self.network.nodes:\n",
    "            self.network.nodes[node]['susceptible'] = True\n",
    "            self.network.nodes[node]['infected'] = False\n",
    "            self.network.nodes[node]['recovered'] = False\n",
    "        \n",
    "        self.susceptible = list(self.network.nodes)\n",
    "        self.infected = []\n",
    "        self.recovered = []\n",
    "        \n",
    "        # Probability of an infected person spreading the disease to a susceptible individual they contacted\n",
    "        self.beta = beta\n",
    "        self.gamma = 1/days_inf\n",
    "        self.time = 1\n",
    "        \n",
    "    def initialize_epidemic(self):\n",
    "        # Assign a single random node as infected and the rest as susceptiple\n",
    "        patient_zero = np.random.choice(list(self.network.nodes))\n",
    "        self.update_infected_susceptible(patient_zero)\n",
    "\n",
    "    def update_infected_recovered(self, node):\n",
    "        self.network.nodes[node]['recovered'] = True\n",
    "        self.network.nodes[node]['infected'] = False\n",
    "        self.recovered.append(node)\n",
    "        self.infected.remove(node)\n",
    "        \n",
    "    def update_infected_susceptible(self, node):\n",
    "        self.network.nodes[node]['susceptible'] = False\n",
    "        self.network.nodes[node]['infected'] = True\n",
    "        self.infected.append(node)\n",
    "        self.susceptible.remove(node)\n",
    "    \n",
    "    def recovers(self, node):\n",
    "        p = self.gamma\n",
    "        recovers = np.random.choice([True, False], p=[p, (1-p)])\n",
    "        \n",
    "        if recovers:\n",
    "            self.update_infected_recovered(node)\n",
    "    \n",
    "    def gets_infected(self, node):\n",
    "        if self.network.nodes[node]['susceptible'] == True:\n",
    "            p = self.beta\n",
    "            gets_infected = np.random.choice([True, False], p=[p, (1-p)])\n",
    "\n",
    "            if gets_infected:\n",
    "                self.update_infected_susceptible(node)\n",
    "\n",
    "    def simulate_disease_progress(self):\n",
    "        for node in self.infected:\n",
    "            self.recovers(node)\n",
    "            \n",
    "        for node in self.infected:\n",
    "            for n in list(self.network.neighbors(node)):\n",
    "                self.gets_infected(n)"
   ]
  },
  {
   "cell_type": "code",
   "execution_count": 15,
   "metadata": {},
   "outputs": [],
   "source": [
    "pop = 5000\n",
    "days_till_peak = []\n",
    "day_till_full = []\n",
    "peak_values = []\n",
    "\n",
    "for e in range(10):\n",
    "    model = SIRModel(n=pop, k=4, beta=0.75, days_inf=7)\n",
    "    model.initialize_epidemic()\n",
    "    \n",
    "    day_peak = 0\n",
    "    peak = 0\n",
    "    \n",
    "    infected = []\n",
    "    susceptible = []\n",
    "    recovered = []\n",
    " \n",
    "    i = 0\n",
    "    while i < 10000:\n",
    "        if len(model.infected) == 0:\n",
    "            break\n",
    "\n",
    "        infected.append(len(model.infected))\n",
    "        susceptible.append(len(model.susceptible))\n",
    "        recovered.append(len(model.recovered))\n",
    "        model.simulate_disease_progress()\n",
    "        \n",
    "        if len(model.infected) > peak:\n",
    "            peak = len(model.infected)\n",
    "            day_peak = i\n",
    "            \n",
    "        i += 1\n",
    "        \n",
    "    day_till_full.append(i)\n",
    "    days_till_peak.append(day_peak)\n",
    "    peak_values.append(peak)"
   ]
  },
  {
   "cell_type": "code",
   "execution_count": 18,
   "metadata": {},
   "outputs": [
    {
     "data": {
      "text/plain": [
       "34.95082259403919"
      ]
     },
     "execution_count": 18,
     "metadata": {},
     "output_type": "execute_result"
    }
   ],
   "source": [
    "np.std(day_till_full)"
   ]
  },
  {
   "cell_type": "code",
   "execution_count": 20,
   "metadata": {},
   "outputs": [
    {
     "data": {
      "text/plain": [
       "20.9093280618962"
      ]
     },
     "execution_count": 20,
     "metadata": {},
     "output_type": "execute_result"
    }
   ],
   "source": [
    "np.std(days_till_peak)"
   ]
  },
  {
   "cell_type": "code",
   "execution_count": 61,
   "metadata": {},
   "outputs": [
    {
     "data": {
      "text/plain": [
       "[0, 15, 5, 0, 0, 24, 17, 14, 35, 14]"
      ]
     },
     "execution_count": 61,
     "metadata": {},
     "output_type": "execute_result"
    }
   ],
   "source": [
    "peak_values"
   ]
  },
  {
   "cell_type": "code",
   "execution_count": 43,
   "metadata": {},
   "outputs": [
    {
     "data": {
      "image/png": "[encoded data removed]",
      "text/plain": [
       "<Figure size 432x288 with 1 Axes>"
      ]
     },
     "metadata": {
      "needs_background": "light"
     },
     "output_type": "display_data"
    }
   ],
   "source": [
    "t = list(range(i))\n",
    "\n",
    "plt.title(\"SIR Epidemics Model\")\n",
    "plt.xlabel(\"Days\")\n",
    "plt.ylabel(\"Population\")\n",
    "plt.plot(t, susceptible, label=\"Susceptible\")\n",
    "plt.plot(t, infected, label = \"Infected\")\n",
    "plt.plot(t, recovered, label = \"Recovered\")\n",
    "\n",
    "plt.legend()\n",
    "plt.show()"
   ]
  },
  {
   "cell_type": "code",
   "execution_count": null,
   "metadata": {},
   "outputs": [],
   "source": []
  }
 ],
 "metadata": {
  "kernelspec": {
   "display_name": "Python 3",
   "language": "python",
   "name": "python3"
  },
  "language_info": {
   "codemirror_mode": {
    "name": "ipython",
    "version": 3
   },
   "file_extension": ".py",
   "mimetype": "text/x-python",
   "name": "python",
   "nbconvert_exporter": "python",
   "pygments_lexer": "ipython3",
   "version": "3.7.7"
  }
 },
 "nbformat": 4,
 "nbformat_minor": 4
}
