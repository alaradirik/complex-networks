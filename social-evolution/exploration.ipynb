{
 "cells": [
  {
   "cell_type": "code",
   "execution_count": 39,
   "metadata": {},
   "outputs": [],
   "source": [
    "import os\n",
    "import pandas as pd\n",
    "import numpy as np\n",
    "import matplotlib.pyplot as plt\n",
    "\n",
    "import networkx as nx"
   ]
  },
  {
   "cell_type": "markdown",
   "metadata": {},
   "source": [
    "## Load data files"
   ]
  },
  {
   "cell_type": "code",
   "execution_count": 40,
   "metadata": {},
   "outputs": [],
   "source": [
    "subjects = pd.read_csv(\"data/Subjects.csv\")\n",
    "relationships = pd.read_csv(\"output/relationships.csv\")\n",
    "\n",
    "# Subject / node attributes\n",
    "politics = pd.read_csv(\"data/Politics.csv\")\n",
    "health = pd.read_csv(\"data/Health.csv\")\n",
    "\n",
    "# Mobile phone data\n",
    "calls = pd.read_csv(\"data/Calls.csv\")\n",
    "sms = pd.read_csv(\"data/SMS.csv\", encoding = \"ISO-8859-1\")"
   ]
  },
  {
   "cell_type": "markdown",
   "metadata": {},
   "source": [
    "## Exploration of survey data\n",
    "\n",
    "This is an exploration of provided subject attributes, meaningful and informative attributes are selected for further analysis."
   ]
  },
  {
   "cell_type": "markdown",
   "metadata": {},
   "source": [
    "### Distribution of subjects by school year"
   ]
  },
  {
   "cell_type": "code",
   "execution_count": 41,
   "metadata": {},
   "outputs": [
    {
     "data": {
      "text/html": [
       "<div>\n",
       "<style scoped>\n",
       "    .dataframe tbody tr th:only-of-type {\n",
       "        vertical-align: middle;\n",
       "    }\n",
       "\n",
       "    .dataframe tbody tr th {\n",
       "        vertical-align: top;\n",
       "    }\n",
       "\n",
       "    .dataframe thead th {\n",
       "        text-align: right;\n",
       "    }\n",
       "</style>\n",
       "<table border=\"1\" class=\"dataframe\">\n",
       "  <thead>\n",
       "    <tr style=\"text-align: right;\">\n",
       "      <th></th>\n",
       "      <th>user_id</th>\n",
       "      <th>year_school</th>\n",
       "      <th>floor</th>\n",
       "    </tr>\n",
       "  </thead>\n",
       "  <tbody>\n",
       "    <tr>\n",
       "      <th>0</th>\n",
       "      <td>1</td>\n",
       "      <td>GRT / Other</td>\n",
       "      <td>f282.2</td>\n",
       "    </tr>\n",
       "    <tr>\n",
       "      <th>1</th>\n",
       "      <td>2</td>\n",
       "      <td>Freshman</td>\n",
       "      <td>f282.4</td>\n",
       "    </tr>\n",
       "    <tr>\n",
       "      <th>2</th>\n",
       "      <td>3</td>\n",
       "      <td>Sophomore</td>\n",
       "      <td>f282.4</td>\n",
       "    </tr>\n",
       "    <tr>\n",
       "      <th>3</th>\n",
       "      <td>4</td>\n",
       "      <td>Sophomore</td>\n",
       "      <td>f282.1</td>\n",
       "    </tr>\n",
       "    <tr>\n",
       "      <th>4</th>\n",
       "      <td>5</td>\n",
       "      <td>Freshman</td>\n",
       "      <td>f282.3</td>\n",
       "    </tr>\n",
       "  </tbody>\n",
       "</table>\n",
       "</div>"
      ],
      "text/plain": [
       "   user_id  year_school   floor\n",
       "0        1  GRT / Other  f282.2\n",
       "1        2     Freshman  f282.4\n",
       "2        3    Sophomore  f282.4\n",
       "3        4    Sophomore  f282.1\n",
       "4        5     Freshman  f282.3"
      ]
     },
     "execution_count": 41,
     "metadata": {},
     "output_type": "execute_result"
    }
   ],
   "source": [
    "subjects.head()"
   ]
  },
  {
   "cell_type": "code",
   "execution_count": 42,
   "metadata": {},
   "outputs": [
    {
     "data": {
      "text/plain": [
       "<matplotlib.axes._subplots.AxesSubplot at 0x13a30b950>"
      ]
     },
     "execution_count": 42,
     "metadata": {},
     "output_type": "execute_result"
    },
    {
     "data": {
      "image/png": "[encoded data removed]",
      "text/plain": [
       "<Figure size 432x288 with 1 Axes>"
      ]
     },
     "metadata": {
      "needs_background": "light"
     },
     "output_type": "display_data"
    }
   ],
   "source": [
    "subjects[\"year_school\"].value_counts().plot(kind='bar')"
   ]
  },
  {
   "cell_type": "markdown",
   "metadata": {},
   "source": [
    "### Distribution of political views\n",
    "Political views often polarize or bring together people. The survey data includes questionnaires on subjects' views on numerious political topics. Due to the small size of subjects, this project focuses only on the most prominent /divisive features: subject's degree of interest in politics and preferred political party."
   ]
  },
  {
   "cell_type": "code",
   "execution_count": 43,
   "metadata": {},
   "outputs": [
    {
     "data": {
      "text/html": [
       "<div>\n",
       "<style scoped>\n",
       "    .dataframe tbody tr th:only-of-type {\n",
       "        vertical-align: middle;\n",
       "    }\n",
       "\n",
       "    .dataframe tbody tr th {\n",
       "        vertical-align: top;\n",
       "    }\n",
       "\n",
       "    .dataframe thead th {\n",
       "        text-align: right;\n",
       "    }\n",
       "</style>\n",
       "<table border=\"1\" class=\"dataframe\">\n",
       "  <thead>\n",
       "    <tr style=\"text-align: right;\">\n",
       "      <th></th>\n",
       "      <th>user_id</th>\n",
       "      <th>interested_in_politics</th>\n",
       "      <th>preferred_party</th>\n",
       "      <th>likelihood_of_voting</th>\n",
       "      <th>voting_for_today</th>\n",
       "      <th>preferred_party_details</th>\n",
       "      <th>liberal_or_conservative</th>\n",
       "      <th>survey.month</th>\n",
       "      <th>did_vote_in_election</th>\n",
       "      <th>not_voted_preferred_candidate</th>\n",
       "      <th>voted_preferred_candidate</th>\n",
       "      <th>approve_obama_president</th>\n",
       "      <th>approve_congress</th>\n",
       "      <th>approve_obama_economy</th>\n",
       "    </tr>\n",
       "  </thead>\n",
       "  <tbody>\n",
       "    <tr>\n",
       "      <th>0</th>\n",
       "      <td>55</td>\n",
       "      <td>Very interested</td>\n",
       "      <td>Independent</td>\n",
       "      <td>I will most likely vote</td>\n",
       "      <td>Probably John McCain</td>\n",
       "      <td>Republican Party</td>\n",
       "      <td>Slightly conservative</td>\n",
       "      <td>2008.09</td>\n",
       "      <td>NaN</td>\n",
       "      <td>NaN</td>\n",
       "      <td>NaN</td>\n",
       "      <td>NaN</td>\n",
       "      <td>NaN</td>\n",
       "      <td>NaN</td>\n",
       "    </tr>\n",
       "    <tr>\n",
       "      <th>1</th>\n",
       "      <td>36</td>\n",
       "      <td>Slightly interested</td>\n",
       "      <td>Republican</td>\n",
       "      <td>I don't know whether or not I will vote</td>\n",
       "      <td>Definitely John McCain</td>\n",
       "      <td>Strong Republican</td>\n",
       "      <td>Conservative</td>\n",
       "      <td>2008.09</td>\n",
       "      <td>NaN</td>\n",
       "      <td>NaN</td>\n",
       "      <td>NaN</td>\n",
       "      <td>NaN</td>\n",
       "      <td>NaN</td>\n",
       "      <td>NaN</td>\n",
       "    </tr>\n",
       "    <tr>\n",
       "      <th>2</th>\n",
       "      <td>39</td>\n",
       "      <td>Somewhat interested</td>\n",
       "      <td>Democrat</td>\n",
       "      <td>NaN</td>\n",
       "      <td>Probably Barack Obama</td>\n",
       "      <td>Not very strong Democrat</td>\n",
       "      <td>Slightly liberal</td>\n",
       "      <td>2008.09</td>\n",
       "      <td>NaN</td>\n",
       "      <td>NaN</td>\n",
       "      <td>NaN</td>\n",
       "      <td>NaN</td>\n",
       "      <td>NaN</td>\n",
       "      <td>NaN</td>\n",
       "    </tr>\n",
       "    <tr>\n",
       "      <th>3</th>\n",
       "      <td>37</td>\n",
       "      <td>Not at all interested</td>\n",
       "      <td>Democrat</td>\n",
       "      <td>I will most likely not vote</td>\n",
       "      <td>Probably Barack Obama</td>\n",
       "      <td>Not very strong Democrat</td>\n",
       "      <td>Extremely liberal</td>\n",
       "      <td>2008.09</td>\n",
       "      <td>NaN</td>\n",
       "      <td>NaN</td>\n",
       "      <td>NaN</td>\n",
       "      <td>NaN</td>\n",
       "      <td>NaN</td>\n",
       "      <td>NaN</td>\n",
       "    </tr>\n",
       "    <tr>\n",
       "      <th>4</th>\n",
       "      <td>72</td>\n",
       "      <td>Very interested</td>\n",
       "      <td>Democrat</td>\n",
       "      <td>I will definitely vote</td>\n",
       "      <td>Definitely Barack Obama</td>\n",
       "      <td>Strong Democrat</td>\n",
       "      <td>Liberal</td>\n",
       "      <td>2008.09</td>\n",
       "      <td>NaN</td>\n",
       "      <td>NaN</td>\n",
       "      <td>NaN</td>\n",
       "      <td>NaN</td>\n",
       "      <td>NaN</td>\n",
       "      <td>NaN</td>\n",
       "    </tr>\n",
       "  </tbody>\n",
       "</table>\n",
       "</div>"
      ],
      "text/plain": [
       "   user_id interested_in_politics preferred_party  \\\n",
       "0       55        Very interested     Independent   \n",
       "1       36    Slightly interested      Republican   \n",
       "2       39    Somewhat interested        Democrat   \n",
       "3       37  Not at all interested        Democrat   \n",
       "4       72        Very interested        Democrat   \n",
       "\n",
       "                      likelihood_of_voting         voting_for_today  \\\n",
       "0                  I will most likely vote     Probably John McCain   \n",
       "1  I don't know whether or not I will vote   Definitely John McCain   \n",
       "2                                      NaN    Probably Barack Obama   \n",
       "3              I will most likely not vote    Probably Barack Obama   \n",
       "4                   I will definitely vote  Definitely Barack Obama   \n",
       "\n",
       "    preferred_party_details liberal_or_conservative  survey.month  \\\n",
       "0          Republican Party   Slightly conservative       2008.09   \n",
       "1         Strong Republican            Conservative       2008.09   \n",
       "2  Not very strong Democrat        Slightly liberal       2008.09   \n",
       "3  Not very strong Democrat       Extremely liberal       2008.09   \n",
       "4           Strong Democrat                 Liberal       2008.09   \n",
       "\n",
       "  did_vote_in_election not_voted_preferred_candidate  \\\n",
       "0                  NaN                           NaN   \n",
       "1                  NaN                           NaN   \n",
       "2                  NaN                           NaN   \n",
       "3                  NaN                           NaN   \n",
       "4                  NaN                           NaN   \n",
       "\n",
       "  voted_preferred_candidate approve_obama_president approve_congress  \\\n",
       "0                       NaN                     NaN              NaN   \n",
       "1                       NaN                     NaN              NaN   \n",
       "2                       NaN                     NaN              NaN   \n",
       "3                       NaN                     NaN              NaN   \n",
       "4                       NaN                     NaN              NaN   \n",
       "\n",
       "  approve_obama_economy  \n",
       "0                   NaN  \n",
       "1                   NaN  \n",
       "2                   NaN  \n",
       "3                   NaN  \n",
       "4                   NaN  "
      ]
     },
     "execution_count": 43,
     "metadata": {},
     "output_type": "execute_result"
    }
   ],
   "source": [
    "politics.head()"
   ]
  },
  {
   "cell_type": "code",
   "execution_count": 44,
   "metadata": {},
   "outputs": [
    {
     "name": "stdout",
     "output_type": "stream",
     "text": [
      "<class 'pandas.core.frame.DataFrame'>\n",
      "RangeIndex: 456 entries, 0 to 455\n",
      "Data columns (total 14 columns):\n",
      " #   Column                         Non-Null Count  Dtype  \n",
      "---  ------                         --------------  -----  \n",
      " 0   user_id                        456 non-null    int64  \n",
      " 1   interested_in_politics         455 non-null    object \n",
      " 2   preferred_party                204 non-null    object \n",
      " 3   likelihood_of_voting           136 non-null    object \n",
      " 4   voting_for_today               137 non-null    object \n",
      " 5   preferred_party_details        140 non-null    object \n",
      " 6   liberal_or_conservative        141 non-null    object \n",
      " 7   survey.month                   456 non-null    float64\n",
      " 8   did_vote_in_election           68 non-null     object \n",
      " 9   not_voted_preferred_candidate  30 non-null     object \n",
      " 10  voted_preferred_candidate      38 non-null     object \n",
      " 11  approve_obama_president        185 non-null    object \n",
      " 12  approve_congress               185 non-null    object \n",
      " 13  approve_obama_economy          185 non-null    object \n",
      "dtypes: float64(1), int64(1), object(12)\n",
      "memory usage: 50.0+ KB\n"
     ]
    }
   ],
   "source": [
    "politics.info()"
   ]
  },
  {
   "cell_type": "code",
   "execution_count": 45,
   "metadata": {},
   "outputs": [
    {
     "data": {
      "text/plain": [
       "<matplotlib.axes._subplots.AxesSubplot at 0x1388b3110>"
      ]
     },
     "execution_count": 45,
     "metadata": {},
     "output_type": "execute_result"
    },
    {
     "data": {
      "image/png": "[encoded data removed]",
      "text/plain": [
       "<Figure size 864x720 with 2 Axes>"
      ]
     },
     "metadata": {
      "needs_background": "light"
     },
     "output_type": "display_data"
    }
   ],
   "source": [
    "plt.figure(1)\n",
    "ax1 = plt.subplot(221)\n",
    "politics[\"preferred_party\"].value_counts().plot(kind='bar', title=\"Preferred party\", figsize=(12, 10))\n",
    "\n",
    "ax2 = plt.subplot(222)\n",
    "politics[\"interested_in_politics\"].value_counts().plot(kind='bar', title=\"Interested in politics\", figsize=(12, 10))"
   ]
  },
  {
   "cell_type": "markdown",
   "metadata": {},
   "source": [
    "### Distribution of subjects' general health\n",
    "Diet type and the exercise habits can be indicative of a person's moods and social circles. This section briefly explores the health surveys included in the data.\n"
   ]
  },
  {
   "cell_type": "code",
   "execution_count": 46,
   "metadata": {},
   "outputs": [
    {
     "data": {
      "text/html": [
       "<div>\n",
       "<style scoped>\n",
       "    .dataframe tbody tr th:only-of-type {\n",
       "        vertical-align: middle;\n",
       "    }\n",
       "\n",
       "    .dataframe tbody tr th {\n",
       "        vertical-align: top;\n",
       "    }\n",
       "\n",
       "    .dataframe thead th {\n",
       "        text-align: right;\n",
       "    }\n",
       "</style>\n",
       "<table border=\"1\" class=\"dataframe\">\n",
       "  <thead>\n",
       "    <tr style=\"text-align: right;\">\n",
       "      <th></th>\n",
       "      <th>user_id</th>\n",
       "      <th>current_weight</th>\n",
       "      <th>current_height</th>\n",
       "      <th>salads_per_week</th>\n",
       "      <th>veggies_fruits_per_day</th>\n",
       "      <th>healthy_diet</th>\n",
       "      <th>aerobic_per_week</th>\n",
       "      <th>sports_per_week</th>\n",
       "      <th>current_smoking</th>\n",
       "      <th>survey.month</th>\n",
       "    </tr>\n",
       "  </thead>\n",
       "  <tbody>\n",
       "    <tr>\n",
       "      <th>0</th>\n",
       "      <td>55</td>\n",
       "      <td>140.0</td>\n",
       "      <td>69.0</td>\n",
       "      <td>0.0</td>\n",
       "      <td>0.0</td>\n",
       "      <td>Below average</td>\n",
       "      <td>2.0</td>\n",
       "      <td>0.0</td>\n",
       "      <td>Never</td>\n",
       "      <td>2008.09</td>\n",
       "    </tr>\n",
       "    <tr>\n",
       "      <th>1</th>\n",
       "      <td>36</td>\n",
       "      <td>150.0</td>\n",
       "      <td>67.0</td>\n",
       "      <td>2.0</td>\n",
       "      <td>1.0</td>\n",
       "      <td>Below average</td>\n",
       "      <td>3.0</td>\n",
       "      <td>3.0</td>\n",
       "      <td>Never</td>\n",
       "      <td>2008.09</td>\n",
       "    </tr>\n",
       "    <tr>\n",
       "      <th>2</th>\n",
       "      <td>39</td>\n",
       "      <td>105.0</td>\n",
       "      <td>66.0</td>\n",
       "      <td>0.0</td>\n",
       "      <td>2.0</td>\n",
       "      <td>Average</td>\n",
       "      <td>1.0</td>\n",
       "      <td>0.0</td>\n",
       "      <td>Never</td>\n",
       "      <td>2008.09</td>\n",
       "    </tr>\n",
       "    <tr>\n",
       "      <th>3</th>\n",
       "      <td>37</td>\n",
       "      <td>220.0</td>\n",
       "      <td>77.0</td>\n",
       "      <td>2.0</td>\n",
       "      <td>5.0</td>\n",
       "      <td>Very healthy</td>\n",
       "      <td>5.0</td>\n",
       "      <td>5.0</td>\n",
       "      <td>Never</td>\n",
       "      <td>2008.09</td>\n",
       "    </tr>\n",
       "    <tr>\n",
       "      <th>4</th>\n",
       "      <td>72</td>\n",
       "      <td>135.0</td>\n",
       "      <td>62.0</td>\n",
       "      <td>0.0</td>\n",
       "      <td>1.0</td>\n",
       "      <td>Unhealthy</td>\n",
       "      <td>0.0</td>\n",
       "      <td>0.0</td>\n",
       "      <td>Never</td>\n",
       "      <td>2008.09</td>\n",
       "    </tr>\n",
       "  </tbody>\n",
       "</table>\n",
       "</div>"
      ],
      "text/plain": [
       "   user_id  current_weight  current_height  salads_per_week  \\\n",
       "0       55           140.0            69.0              0.0   \n",
       "1       36           150.0            67.0              2.0   \n",
       "2       39           105.0            66.0              0.0   \n",
       "3       37           220.0            77.0              2.0   \n",
       "4       72           135.0            62.0              0.0   \n",
       "\n",
       "   veggies_fruits_per_day   healthy_diet  aerobic_per_week  sports_per_week  \\\n",
       "0                     0.0  Below average               2.0              0.0   \n",
       "1                     1.0  Below average               3.0              3.0   \n",
       "2                     2.0        Average               1.0              0.0   \n",
       "3                     5.0   Very healthy               5.0              5.0   \n",
       "4                     1.0      Unhealthy               0.0              0.0   \n",
       "\n",
       "  current_smoking  survey.month  \n",
       "0           Never       2008.09  \n",
       "1           Never       2008.09  \n",
       "2           Never       2008.09  \n",
       "3           Never       2008.09  \n",
       "4           Never       2008.09  "
      ]
     },
     "execution_count": 46,
     "metadata": {},
     "output_type": "execute_result"
    }
   ],
   "source": [
    "health.head()"
   ]
  },
  {
   "cell_type": "code",
   "execution_count": 47,
   "metadata": {},
   "outputs": [
    {
     "name": "stdout",
     "output_type": "stream",
     "text": [
      "<class 'pandas.core.frame.DataFrame'>\n",
      "RangeIndex: 385 entries, 0 to 384\n",
      "Data columns (total 10 columns):\n",
      " #   Column                  Non-Null Count  Dtype  \n",
      "---  ------                  --------------  -----  \n",
      " 0   user_id                 385 non-null    int64  \n",
      " 1   current_weight          382 non-null    float64\n",
      " 2   current_height          129 non-null    float64\n",
      " 3   salads_per_week         382 non-null    float64\n",
      " 4   veggies_fruits_per_day  381 non-null    float64\n",
      " 5   healthy_diet            382 non-null    object \n",
      " 6   aerobic_per_week        381 non-null    float64\n",
      " 7   sports_per_week         381 non-null    float64\n",
      " 8   current_smoking         382 non-null    object \n",
      " 9   survey.month            385 non-null    float64\n",
      "dtypes: float64(7), int64(1), object(2)\n",
      "memory usage: 30.2+ KB\n"
     ]
    }
   ],
   "source": [
    "health.info()"
   ]
  },
  {
   "cell_type": "code",
   "execution_count": 48,
   "metadata": {},
   "outputs": [
    {
     "data": {
      "text/plain": [
       "<matplotlib.axes._subplots.AxesSubplot at 0x134fb1410>"
      ]
     },
     "execution_count": 48,
     "metadata": {},
     "output_type": "execute_result"
    },
    {
     "data": {
      "image/png": "[encoded data removed]",
      "text/plain": [
       "<Figure size 864x720 with 2 Axes>"
      ]
     },
     "metadata": {
      "needs_background": "light"
     },
     "output_type": "display_data"
    }
   ],
   "source": [
    "plt.figure(1)\n",
    "ax1 = plt.subplot(221)\n",
    "health[\"healthy_diet\"].value_counts().plot(kind='bar', title=\"Healthy diet\", figsize=(12, 10))\n",
    "\n",
    "ax2 = plt.subplot(222)\n",
    "health[\"current_smoking\"].value_counts().plot(kind='bar', title=\"Smoking\", figsize=(12, 10))"
   ]
  },
  {
   "cell_type": "code",
   "execution_count": 49,
   "metadata": {},
   "outputs": [
    {
     "data": {
      "text/plain": [
       "<matplotlib.axes._subplots.AxesSubplot at 0x1374fc210>"
      ]
     },
     "execution_count": 49,
     "metadata": {},
     "output_type": "execute_result"
    },
    {
     "data": {
      "image/png": "[encoded data removed]",
      "text/plain": [
       "<Figure size 432x288 with 1 Axes>"
      ]
     },
     "metadata": {
      "needs_background": "light"
     },
     "output_type": "display_data"
    }
   ],
   "source": [
    "# Create a new column by summing up weekly aerobic and sports activity numbers\n",
    "health[\"exercise\"] = health[\"aerobic_per_week\"] + health[\"sports_per_week\"]\n",
    "health[\"exercise\"].value_counts().plot(kind='bar')"
   ]
  },
  {
   "cell_type": "markdown",
   "metadata": {},
   "source": [
    "## Cleaning and merging subject attributes\n",
    "Most informative and meaningful attributes are selected in order to be used in the social network analysis. The selected attributes are:\n",
    "- Politics\n",
    "    - Interest in politics\n",
    "    - Preferred party\n",
    "- Health\n",
    "    - Healthy diet\n",
    "    - Exercise per week\n",
    "- School year"
   ]
  },
  {
   "cell_type": "code",
   "execution_count": 50,
   "metadata": {},
   "outputs": [
    {
     "name": "stdout",
     "output_type": "stream",
     "text": [
      "[2008.09 2008.1  2008.12 2009.03 2009.04 2009.06]\n",
      "[2008.09 2008.1  2008.11 2008.12 2009.03 2009.04 2009.06]\n"
     ]
    }
   ],
   "source": [
    "# Filter attributes\n",
    "politics = politics[[\"user_id\", \"interested_in_politics\", \"preferred_party\", \"survey.month\"]]\n",
    "health = health[[\"user_id\", \"healthy_diet\", \"exercise\", \"survey.month\"]]\n",
    "subjects = subjects[[\"user_id\", \"year_school\"]]\n",
    "\n",
    "# Print survey dates\n",
    "print(health[\"survey.month\"].unique())\n",
    "print(politics[\"survey.month\"].unique())"
   ]
  },
  {
   "cell_type": "markdown",
   "metadata": {},
   "source": [
    "**Note:**\n",
    "Survey dates are stored as float numbers and 10/2018 is incorrectly stored as 2008.1\n"
   ]
  },
  {
   "cell_type": "code",
   "execution_count": 51,
   "metadata": {},
   "outputs": [
    {
     "data": {
      "text/html": [
       "<div>\n",
       "<style scoped>\n",
       "    .dataframe tbody tr th:only-of-type {\n",
       "        vertical-align: middle;\n",
       "    }\n",
       "\n",
       "    .dataframe tbody tr th {\n",
       "        vertical-align: top;\n",
       "    }\n",
       "\n",
       "    .dataframe thead th {\n",
       "        text-align: right;\n",
       "    }\n",
       "</style>\n",
       "<table border=\"1\" class=\"dataframe\">\n",
       "  <thead>\n",
       "    <tr style=\"text-align: right;\">\n",
       "      <th></th>\n",
       "      <th>user_id</th>\n",
       "      <th>year_school</th>\n",
       "      <th>interested_in_politics</th>\n",
       "      <th>preferred_party</th>\n",
       "      <th>survey.month</th>\n",
       "      <th>healthy_diet</th>\n",
       "      <th>exercise</th>\n",
       "    </tr>\n",
       "  </thead>\n",
       "  <tbody>\n",
       "    <tr>\n",
       "      <th>0</th>\n",
       "      <td>1</td>\n",
       "      <td>GRT / Other</td>\n",
       "      <td>Slightly interested</td>\n",
       "      <td>Democrat</td>\n",
       "      <td>2008-09</td>\n",
       "      <td>Very healthy</td>\n",
       "      <td>7.0</td>\n",
       "    </tr>\n",
       "    <tr>\n",
       "      <th>1</th>\n",
       "      <td>1</td>\n",
       "      <td>GRT / Other</td>\n",
       "      <td>Somewhat interested</td>\n",
       "      <td>Independent</td>\n",
       "      <td>2008-10</td>\n",
       "      <td>Very healthy</td>\n",
       "      <td>5.0</td>\n",
       "    </tr>\n",
       "    <tr>\n",
       "      <th>2</th>\n",
       "      <td>1</td>\n",
       "      <td>GRT / Other</td>\n",
       "      <td>Somewhat interested</td>\n",
       "      <td>Independent</td>\n",
       "      <td>2008-11</td>\n",
       "      <td>NaN</td>\n",
       "      <td>NaN</td>\n",
       "    </tr>\n",
       "    <tr>\n",
       "      <th>3</th>\n",
       "      <td>1</td>\n",
       "      <td>GRT / Other</td>\n",
       "      <td>Somewhat interested</td>\n",
       "      <td>NaN</td>\n",
       "      <td>2008-12</td>\n",
       "      <td>Very healthy</td>\n",
       "      <td>4.0</td>\n",
       "    </tr>\n",
       "    <tr>\n",
       "      <th>4</th>\n",
       "      <td>1</td>\n",
       "      <td>GRT / Other</td>\n",
       "      <td>Slightly interested</td>\n",
       "      <td>NaN</td>\n",
       "      <td>2009-03</td>\n",
       "      <td>Very healthy</td>\n",
       "      <td>5.0</td>\n",
       "    </tr>\n",
       "  </tbody>\n",
       "</table>\n",
       "</div>"
      ],
      "text/plain": [
       "   user_id  year_school interested_in_politics preferred_party survey.month  \\\n",
       "0        1  GRT / Other    Slightly interested        Democrat      2008-09   \n",
       "1        1  GRT / Other    Somewhat interested     Independent      2008-10   \n",
       "2        1  GRT / Other    Somewhat interested     Independent      2008-11   \n",
       "3        1  GRT / Other    Somewhat interested             NaN      2008-12   \n",
       "4        1  GRT / Other    Slightly interested             NaN      2009-03   \n",
       "\n",
       "   healthy_diet  exercise  \n",
       "0  Very healthy       7.0  \n",
       "1  Very healthy       5.0  \n",
       "2           NaN       NaN  \n",
       "3  Very healthy       4.0  \n",
       "4  Very healthy       5.0  "
      ]
     },
     "execution_count": 51,
     "metadata": {},
     "output_type": "execute_result"
    }
   ],
   "source": [
    "# Merge all attributes using the user ids\n",
    "attributes = pd.merge(politics, health, on=[\"user_id\", \"survey.month\"], how=\"outer\")\n",
    "subjects = pd.merge(subjects, attributes, on=\"user_id\", how=\"outer\")\n",
    "\n",
    "attributes = attributes[attributes[\"survey.month\"].notnull()]\n",
    "\n",
    "# Fix datetime issues\n",
    "subjects[\"survey.month\"] = subjects[\"survey.month\"].astype(str)\n",
    "subjects[\"year\"] = subjects[\"survey.month\"].str[:4]\n",
    "subjects[\"month\"] = subjects[\"survey.month\"].str[5:]\n",
    "subjects.loc[subjects[\"month\"]==\"1\", \"month\"] = \"10\"\n",
    "subjects[\"survey.month\"] =  subjects[\"year\"] + \"-\" + subjects[\"month\"]\n",
    "subjects = subjects.drop(columns=[\"month\", \"year\"])\n",
    "subjects.head()"
   ]
  },
  {
   "cell_type": "code",
   "execution_count": 52,
   "metadata": {},
   "outputs": [],
   "source": [
    "# Save attributes as csv file\n",
    "subjects.to_csv('output/subject_attributes.csv')"
   ]
  },
  {
   "cell_type": "markdown",
   "metadata": {},
   "source": [
    "## Exploring the social network"
   ]
  },
  {
   "cell_type": "code",
   "execution_count": 53,
   "metadata": {},
   "outputs": [
    {
     "data": {
      "text/html": [
       "<div>\n",
       "<style scoped>\n",
       "    .dataframe tbody tr th:only-of-type {\n",
       "        vertical-align: middle;\n",
       "    }\n",
       "\n",
       "    .dataframe tbody tr th {\n",
       "        vertical-align: top;\n",
       "    }\n",
       "\n",
       "    .dataframe thead th {\n",
       "        text-align: right;\n",
       "    }\n",
       "</style>\n",
       "<table border=\"1\" class=\"dataframe\">\n",
       "  <thead>\n",
       "    <tr style=\"text-align: right;\">\n",
       "      <th></th>\n",
       "      <th>Unnamed: 0</th>\n",
       "      <th>id.A</th>\n",
       "      <th>id.B</th>\n",
       "      <th>survey.date</th>\n",
       "      <th>social_status</th>\n",
       "    </tr>\n",
       "  </thead>\n",
       "  <tbody>\n",
       "    <tr>\n",
       "      <th>0</th>\n",
       "      <td>0</td>\n",
       "      <td>47</td>\n",
       "      <td>2</td>\n",
       "      <td>2008-09-09</td>\n",
       "      <td>CloseFriend</td>\n",
       "    </tr>\n",
       "    <tr>\n",
       "      <th>1</th>\n",
       "      <td>1</td>\n",
       "      <td>2</td>\n",
       "      <td>2</td>\n",
       "      <td>2008-09-09</td>\n",
       "      <td>CloseFriend</td>\n",
       "    </tr>\n",
       "    <tr>\n",
       "      <th>2</th>\n",
       "      <td>2</td>\n",
       "      <td>57</td>\n",
       "      <td>2</td>\n",
       "      <td>2008-09-09</td>\n",
       "      <td>CloseFriend</td>\n",
       "    </tr>\n",
       "    <tr>\n",
       "      <th>3</th>\n",
       "      <td>3</td>\n",
       "      <td>73</td>\n",
       "      <td>2</td>\n",
       "      <td>2008-09-09</td>\n",
       "      <td>Friend</td>\n",
       "    </tr>\n",
       "    <tr>\n",
       "      <th>4</th>\n",
       "      <td>4</td>\n",
       "      <td>55</td>\n",
       "      <td>2</td>\n",
       "      <td>2008-09-09</td>\n",
       "      <td>Friend</td>\n",
       "    </tr>\n",
       "  </tbody>\n",
       "</table>\n",
       "</div>"
      ],
      "text/plain": [
       "   Unnamed: 0  id.A  id.B survey.date social_status\n",
       "0           0    47     2  2008-09-09   CloseFriend\n",
       "1           1     2     2  2008-09-09   CloseFriend\n",
       "2           2    57     2  2008-09-09   CloseFriend\n",
       "3           3    73     2  2008-09-09        Friend\n",
       "4           4    55     2  2008-09-09        Friend"
      ]
     },
     "execution_count": 53,
     "metadata": {},
     "output_type": "execute_result"
    }
   ],
   "source": [
    "relationships.head()"
   ]
  },
  {
   "cell_type": "code",
   "execution_count": 54,
   "metadata": {},
   "outputs": [
    {
     "data": {
      "image/png": "[encoded data removed]",
      "text/plain": [
       "<Figure size 720x576 with 6 Axes>"
      ]
     },
     "metadata": {
      "needs_background": "light"
     },
     "output_type": "display_data"
    }
   ],
   "source": [
    "# Drop the second index column\n",
    "relationships = relationships.drop(relationships.columns[0], axis=1)\n",
    "\n",
    "plt.figure(1)\n",
    "plt_num = 331\n",
    "\n",
    "# Plot the distribution of relationship status for each survey\n",
    "for date in relationships[\"survey.date\"].unique():\n",
    "    sub_df = relationships[relationships[\"survey.date\"]==date]\n",
    "    plt.subplot(plt_num)\n",
    "    sub_df[\"social_status\"].value_counts().plot(\n",
    "        kind='bar', \n",
    "        title=date,\n",
    "        figsize=(10, 8))\n",
    "    plt_num += 1"
   ]
  },
  {
   "cell_type": "code",
   "execution_count": 26,
   "metadata": {},
   "outputs": [
    {
     "data": {
      "text/plain": [
       "<matplotlib.legend.Legend at 0x13442a390>"
      ]
     },
     "execution_count": 26,
     "metadata": {},
     "output_type": "execute_result"
    },
    {
     "data": {
      "image/png": "[encoded data removed]",
      "text/plain": [
       "<Figure size 432x288 with 1 Axes>"
      ]
     },
     "metadata": {
      "needs_background": "light"
     },
     "output_type": "display_data"
    }
   ],
   "source": [
    "# Change in relationship statistics over time\n",
    "close_fr, fr, acq, dates = [], [], [], []\n",
    "\n",
    "survey_dates = relationships['survey.date'].unique().tolist()\n",
    "for date in survey_dates:\n",
    "    df = relationships[relationships['survey.date']==date]\n",
    "    close_fr.append(df[\"social_status\"].value_counts().CloseFriend)\n",
    "    fr.append(df[\"social_status\"].value_counts().Friend)\n",
    "    acq.append(df[\"social_status\"].value_counts().Acquaintance)\n",
    "    dates.append(date)\n",
    "    \n",
    "plt.plot(close_fr )\n",
    "plt.plot(fr)\n",
    "plt.plot(acq)\n",
    "plt.legend([\"Close friends\", \"Friends\", \"Acquaintance\"])"
   ]
  },
  {
   "cell_type": "code",
   "execution_count": 27,
   "metadata": {},
   "outputs": [
    {
     "data": {
      "text/plain": [
       "['2008-09-09',\n",
       " '2008-10-19',\n",
       " '2008-12-13',\n",
       " '2009-03-05',\n",
       " '2009-04-17',\n",
       " '2009-05-18']"
      ]
     },
     "execution_count": 27,
     "metadata": {},
     "output_type": "execute_result"
    }
   ],
   "source": [
    "survey_dates"
   ]
  },
  {
   "cell_type": "markdown",
   "metadata": {},
   "source": [
    "## Exploration of mobile data\n",
    "This section explores the connection between mobile correspondeses and relationship status"
   ]
  },
  {
   "cell_type": "code",
   "execution_count": 28,
   "metadata": {},
   "outputs": [
    {
     "data": {
      "text/html": [
       "<div>\n",
       "<style scoped>\n",
       "    .dataframe tbody tr th:only-of-type {\n",
       "        vertical-align: middle;\n",
       "    }\n",
       "\n",
       "    .dataframe tbody tr th {\n",
       "        vertical-align: top;\n",
       "    }\n",
       "\n",
       "    .dataframe thead th {\n",
       "        text-align: right;\n",
       "    }\n",
       "</style>\n",
       "<table border=\"1\" class=\"dataframe\">\n",
       "  <thead>\n",
       "    <tr style=\"text-align: right;\">\n",
       "      <th></th>\n",
       "      <th>user_id</th>\n",
       "      <th>time_stamp</th>\n",
       "      <th>duration</th>\n",
       "      <th>dest_user_id_if_known</th>\n",
       "      <th>dest_phone_hash</th>\n",
       "    </tr>\n",
       "  </thead>\n",
       "  <tbody>\n",
       "    <tr>\n",
       "      <th>0</th>\n",
       "      <td>19.0</td>\n",
       "      <td>2008-10-02 22:04:28</td>\n",
       "      <td>15</td>\n",
       "      <td>NaN</td>\n",
       "      <td>2088297235</td>\n",
       "    </tr>\n",
       "    <tr>\n",
       "      <th>1</th>\n",
       "      <td>19.0</td>\n",
       "      <td>2008-10-02 22:03:57</td>\n",
       "      <td>17</td>\n",
       "      <td>NaN</td>\n",
       "      <td>2088297235</td>\n",
       "    </tr>\n",
       "    <tr>\n",
       "      <th>2</th>\n",
       "      <td>19.0</td>\n",
       "      <td>2008-10-03 00:42:55</td>\n",
       "      <td>421</td>\n",
       "      <td>NaN</td>\n",
       "      <td>2939471263</td>\n",
       "    </tr>\n",
       "    <tr>\n",
       "      <th>3</th>\n",
       "      <td>19.0</td>\n",
       "      <td>2008-10-03 00:42:06</td>\n",
       "      <td>0</td>\n",
       "      <td>NaN</td>\n",
       "      <td>2088297235</td>\n",
       "    </tr>\n",
       "    <tr>\n",
       "      <th>4</th>\n",
       "      <td>19.0</td>\n",
       "      <td>2008-10-03 03:47:31</td>\n",
       "      <td>47</td>\n",
       "      <td>18.0</td>\n",
       "      <td>3620995333</td>\n",
       "    </tr>\n",
       "  </tbody>\n",
       "</table>\n",
       "</div>"
      ],
      "text/plain": [
       "   user_id           time_stamp  duration  dest_user_id_if_known  \\\n",
       "0     19.0  2008-10-02 22:04:28        15                    NaN   \n",
       "1     19.0  2008-10-02 22:03:57        17                    NaN   \n",
       "2     19.0  2008-10-03 00:42:55       421                    NaN   \n",
       "3     19.0  2008-10-03 00:42:06         0                    NaN   \n",
       "4     19.0  2008-10-03 03:47:31        47                   18.0   \n",
       "\n",
       "  dest_phone_hash  \n",
       "0      2088297235  \n",
       "1      2088297235  \n",
       "2      2939471263  \n",
       "3      2088297235  \n",
       "4      3620995333  "
      ]
     },
     "execution_count": 28,
     "metadata": {},
     "output_type": "execute_result"
    }
   ],
   "source": [
    "calls.head()"
   ]
  },
  {
   "cell_type": "code",
   "execution_count": 29,
   "metadata": {},
   "outputs": [
    {
     "data": {
      "text/html": [
       "<div>\n",
       "<style scoped>\n",
       "    .dataframe tbody tr th:only-of-type {\n",
       "        vertical-align: middle;\n",
       "    }\n",
       "\n",
       "    .dataframe tbody tr th {\n",
       "        vertical-align: top;\n",
       "    }\n",
       "\n",
       "    .dataframe thead th {\n",
       "        text-align: right;\n",
       "    }\n",
       "</style>\n",
       "<table border=\"1\" class=\"dataframe\">\n",
       "  <thead>\n",
       "    <tr style=\"text-align: right;\">\n",
       "      <th></th>\n",
       "      <th>user.id</th>\n",
       "      <th>time</th>\n",
       "      <th>incoming</th>\n",
       "      <th>dest.user.id.if.known</th>\n",
       "      <th>dest.phone.hash</th>\n",
       "    </tr>\n",
       "  </thead>\n",
       "  <tbody>\n",
       "    <tr>\n",
       "      <th>0</th>\n",
       "      <td>61</td>\n",
       "      <td>2008-01-01 15:00:25</td>\n",
       "      <td>0</td>\n",
       "      <td>1.0</td>\n",
       "      <td>3502965008</td>\n",
       "    </tr>\n",
       "    <tr>\n",
       "      <th>1</th>\n",
       "      <td>61</td>\n",
       "      <td>2008-01-01 15:00:25</td>\n",
       "      <td>0</td>\n",
       "      <td>61.0</td>\n",
       "      <td>3480933661</td>\n",
       "    </tr>\n",
       "    <tr>\n",
       "      <th>2</th>\n",
       "      <td>61</td>\n",
       "      <td>2008-01-01 15:00:25</td>\n",
       "      <td>1</td>\n",
       "      <td>1.0</td>\n",
       "      <td>3502965008</td>\n",
       "    </tr>\n",
       "    <tr>\n",
       "      <th>3</th>\n",
       "      <td>61</td>\n",
       "      <td>2008-01-01 15:00:25</td>\n",
       "      <td>1</td>\n",
       "      <td>NaN</td>\n",
       "      <td>177622</td>\n",
       "    </tr>\n",
       "    <tr>\n",
       "      <th>4</th>\n",
       "      <td>61</td>\n",
       "      <td>2008-01-01 15:00:25</td>\n",
       "      <td>1</td>\n",
       "      <td>61.0</td>\n",
       "      <td>3480933661</td>\n",
       "    </tr>\n",
       "  </tbody>\n",
       "</table>\n",
       "</div>"
      ],
      "text/plain": [
       "   user.id                 time  incoming  dest.user.id.if.known  \\\n",
       "0       61  2008-01-01 15:00:25         0                    1.0   \n",
       "1       61  2008-01-01 15:00:25         0                   61.0   \n",
       "2       61  2008-01-01 15:00:25         1                    1.0   \n",
       "3       61  2008-01-01 15:00:25         1                    NaN   \n",
       "4       61  2008-01-01 15:00:25         1                   61.0   \n",
       "\n",
       "  dest.phone.hash  \n",
       "0      3502965008  \n",
       "1      3480933661  \n",
       "2      3502965008  \n",
       "3          177622  \n",
       "4      3480933661  "
      ]
     },
     "execution_count": 29,
     "metadata": {},
     "output_type": "execute_result"
    }
   ],
   "source": [
    "sms.head()"
   ]
  },
  {
   "cell_type": "code",
   "execution_count": 30,
   "metadata": {},
   "outputs": [],
   "source": [
    "# Remove hash number\n",
    "calls = calls.drop(columns=[\"dest_phone_hash\"])\n",
    "sms = sms.drop(columns=[\"dest.phone.hash\"])\n",
    "\n",
    "# Remove null values\n",
    "calls = calls[calls[\"dest_user_id_if_known\"].notnull()]\n",
    "sms = sms[sms[\"dest.user.id.if.known\"].notnull()]\n",
    "\n",
    "# Convert time_stamp / time to datetime type\n",
    "calls[\"time_stamp\"] = pd.to_datetime(calls[\"time_stamp\"])\n",
    "sms[\"time\"] = pd.to_datetime(sms[\"time\"])\n",
    "\n",
    "# Aggregate date to monthly value\n",
    "calls[\"time_stamp\"] = calls[\"time_stamp\"].dt.to_period('M')\n",
    "sms[\"time\"] = sms[\"time\"].dt.to_period('M')"
   ]
  },
  {
   "cell_type": "code",
   "execution_count": 31,
   "metadata": {},
   "outputs": [],
   "source": [
    "# Filter out sms data collected prior to the first survey date\n",
    "sms = sms[sms[\"time\"] >= \"2008-09\"]\n",
    "\n",
    "# Convert destination id to integer\n",
    "calls[\"dest_user_id_if_known\"] = calls[\"dest_user_id_if_known\"].astype(int)\n",
    "sms[\"dest.user.id.if.known\"] = sms[\"dest.user.id.if.known\"].astype(int)\n",
    "\n",
    "# Eliminate self loops\n",
    "calls = calls[calls[\"user_id\"] != calls[\"dest_user_id_if_known\"]]\n",
    "sms = sms[sms[\"user.id\"] != sms[\"dest.user.id.if.known\"]]"
   ]
  },
  {
   "cell_type": "markdown",
   "metadata": {},
   "source": [
    "### Computing the total call times between subjects"
   ]
  },
  {
   "cell_type": "code",
   "execution_count": 33,
   "metadata": {},
   "outputs": [],
   "source": [
    "calls = calls.groupby([\"user_id\", \"time_stamp\", \"dest_user_id_if_known\"])[\"duration\"].agg('sum').reset_index()"
   ]
  },
  {
   "cell_type": "markdown",
   "metadata": {},
   "source": [
    "### Computing the total number sms exchanges"
   ]
  },
  {
   "cell_type": "code",
   "execution_count": 34,
   "metadata": {},
   "outputs": [],
   "source": [
    "sms_dict = {}\n",
    "for index, row in sms.iterrows():\n",
    "    if row[\"user.id\"] not in sms_dict:\n",
    "        sms_dict[row[\"user.id\"]] = {}\n",
    "        sms_dict[row[\"user.id\"]][row[\"time\"]] = {}\n",
    "    else:\n",
    "        if row[\"time\"] not in sms_dict[row[\"user.id\"]]:\n",
    "            sms_dict[row[\"user.id\"]][row[\"time\"]] = {}\n",
    "    \n",
    "    if row[\"dest.user.id.if.known\"] not in sms_dict[row[\"user.id\"]][row[\"time\"]]:\n",
    "        sms_dict[row[\"user.id\"]][row[\"time\"]][row[\"dest.user.id.if.known\"]] = 0\n",
    "    \n",
    "        \n",
    "    if row[\"incoming\"] == 1:\n",
    "        sms_dict[row[\"user.id\"]][row[\"time\"]][row[\"dest.user.id.if.known\"]] += 1\n",
    "    else:\n",
    "        if row[\"dest.user.id.if.known\"] not in sms_dict:\n",
    "            sms_dict[row[\"dest.user.id.if.known\"]] = {}\n",
    "            sms_dict[row[\"dest.user.id.if.known\"]][row[\"time\"]] = {}\n",
    "        else:\n",
    "            if row[\"time\"] not in sms_dict[row[\"dest.user.id.if.known\"]]:\n",
    "                sms_dict[row[\"dest.user.id.if.known\"]][row[\"time\"]] = {}\n",
    "            \n",
    "            if row[\"user.id\"] not in sms_dict[row[\"dest.user.id.if.known\"]][row[\"time\"]]:\n",
    "                sms_dict[row[\"dest.user.id.if.known\"]][row[\"time\"]][row[\"user.id\"]] = 0\n",
    "            sms_dict[row[\"dest.user.id.if.known\"]][row[\"time\"]][row[\"user.id\"]] += 1"
   ]
  },
  {
   "cell_type": "code",
   "execution_count": 35,
   "metadata": {},
   "outputs": [],
   "source": [
    "source, dest, date, n_sms = [], [], [], []\n",
    "for s in sms_dict:\n",
    "    for d in sms_dict[s]:\n",
    "        for t in sms_dict[s][d]:\n",
    "            source.append(s)\n",
    "            date.append(d)\n",
    "            dest.append(t)\n",
    "            n_sms.append(sms_dict[s][d][t])\n",
    "\n",
    "sms = pd.DataFrame(zip(source, dest, date, n_sms), columns =[\"user.id\", \"dest.id\", \"date\", \"n_sms\"])"
   ]
  },
  {
   "cell_type": "markdown",
   "metadata": {},
   "source": [
    "### Call and SMS distributions"
   ]
  },
  {
   "cell_type": "code",
   "execution_count": 36,
   "metadata": {},
   "outputs": [
    {
     "data": {
      "text/plain": [
       "<matplotlib.axes._subplots.AxesSubplot at 0x135230350>"
      ]
     },
     "execution_count": 36,
     "metadata": {},
     "output_type": "execute_result"
    },
    {
     "data": {
      "image/png": "[encoded data removed]",
      "text/plain": [
       "<Figure size 432x288 with 1 Axes>"
      ]
     },
     "metadata": {
      "needs_background": "light"
     },
     "output_type": "display_data"
    }
   ],
   "source": [
    "calls[\"duration\"].plot.hist(bins=30)"
   ]
  },
  {
   "cell_type": "code",
   "execution_count": 37,
   "metadata": {},
   "outputs": [
    {
     "data": {
      "text/plain": [
       "<matplotlib.axes._subplots.AxesSubplot at 0x134ee9590>"
      ]
     },
     "execution_count": 37,
     "metadata": {},
     "output_type": "execute_result"
    },
    {
     "data": {
      "image/png": "[encoded data removed]",
      "text/plain": [
       "<Figure size 432x288 with 1 Axes>"
      ]
     },
     "metadata": {
      "needs_background": "light"
     },
     "output_type": "display_data"
    }
   ],
   "source": [
    "sms[\"n_sms\"].plot.hist(bins=30)"
   ]
  },
  {
   "cell_type": "code",
   "execution_count": 38,
   "metadata": {},
   "outputs": [
    {
     "data": {
      "text/html": [
       "<div>\n",
       "<style scoped>\n",
       "    .dataframe tbody tr th:only-of-type {\n",
       "        vertical-align: middle;\n",
       "    }\n",
       "\n",
       "    .dataframe tbody tr th {\n",
       "        vertical-align: top;\n",
       "    }\n",
       "\n",
       "    .dataframe thead th {\n",
       "        text-align: right;\n",
       "    }\n",
       "</style>\n",
       "<table border=\"1\" class=\"dataframe\">\n",
       "  <thead>\n",
       "    <tr style=\"text-align: right;\">\n",
       "      <th></th>\n",
       "      <th>user.id</th>\n",
       "      <th>date</th>\n",
       "      <th>dest.id</th>\n",
       "      <th>duration</th>\n",
       "      <th>n_sms</th>\n",
       "    </tr>\n",
       "  </thead>\n",
       "  <tbody>\n",
       "    <tr>\n",
       "      <th>0</th>\n",
       "      <td>1.0</td>\n",
       "      <td>2008-10</td>\n",
       "      <td>37</td>\n",
       "      <td>32783.0</td>\n",
       "      <td>2.0</td>\n",
       "    </tr>\n",
       "    <tr>\n",
       "      <th>1</th>\n",
       "      <td>1.0</td>\n",
       "      <td>2008-10</td>\n",
       "      <td>61</td>\n",
       "      <td>3460965.0</td>\n",
       "      <td>432.0</td>\n",
       "    </tr>\n",
       "    <tr>\n",
       "      <th>2</th>\n",
       "      <td>1.0</td>\n",
       "      <td>2008-11</td>\n",
       "      <td>61</td>\n",
       "      <td>100349.0</td>\n",
       "      <td>178.0</td>\n",
       "    </tr>\n",
       "    <tr>\n",
       "      <th>3</th>\n",
       "      <td>1.0</td>\n",
       "      <td>2008-12</td>\n",
       "      <td>37</td>\n",
       "      <td>6.0</td>\n",
       "      <td>NaN</td>\n",
       "    </tr>\n",
       "    <tr>\n",
       "      <th>4</th>\n",
       "      <td>1.0</td>\n",
       "      <td>2008-12</td>\n",
       "      <td>61</td>\n",
       "      <td>45715.0</td>\n",
       "      <td>300.0</td>\n",
       "    </tr>\n",
       "  </tbody>\n",
       "</table>\n",
       "</div>"
      ],
      "text/plain": [
       "   user.id     date  dest.id   duration  n_sms\n",
       "0      1.0  2008-10       37    32783.0    2.0\n",
       "1      1.0  2008-10       61  3460965.0  432.0\n",
       "2      1.0  2008-11       61   100349.0  178.0\n",
       "3      1.0  2008-12       37        6.0    NaN\n",
       "4      1.0  2008-12       61    45715.0  300.0"
      ]
     },
     "execution_count": 38,
     "metadata": {},
     "output_type": "execute_result"
    }
   ],
   "source": [
    "calls.rename(columns={\"user_id\": \"user.id\", \"dest_user_id_if_known\": \"dest.id\", \"time_stamp\": \"date\"}, inplace=True)\n",
    "calls_sms = pd.merge(calls, sms, on=[\"user.id\", \"dest.id\", \"date\"], how=\"outer\")\n",
    "calls_sms.head()"
   ]
  },
  {
   "cell_type": "code",
   "execution_count": 123,
   "metadata": {},
   "outputs": [],
   "source": [
    "calls_sms.to_csv(\"output/calls_sms.csv\")"
   ]
  }
 ],
 "metadata": {
  "kernelspec": {
   "display_name": "Python 3",
   "language": "python",
   "name": "python3"
  },
  "language_info": {
   "codemirror_mode": {
    "name": "ipython",
    "version": 3
   },
   "file_extension": ".py",
   "mimetype": "text/x-python",
   "name": "python",
   "nbconvert_exporter": "python",
   "pygments_lexer": "ipython3",
   "version": "3.7.7"
  }
 },
 "nbformat": 4,
 "nbformat_minor": 4
}
