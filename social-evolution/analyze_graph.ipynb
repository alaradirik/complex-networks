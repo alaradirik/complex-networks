{
 "cells": [
  {
   "cell_type": "code",
   "execution_count": 73,
   "metadata": {},
   "outputs": [],
   "source": [
    "import itertools\n",
    "import pandas as pd\n",
    "import numpy as np\n",
    "import matplotlib.pyplot as plt\n",
    "\n",
    "import networkx as nx\n",
    "from networkx.algorithms.approximation import clique, max_clique\n",
    "import networkx.algorithms.community as community"
   ]
  },
  {
   "cell_type": "markdown",
   "metadata": {},
   "source": [
    "## Directed graph construction\n",
    "- Nodes: students  \n",
    "- Node attributes: \n",
    "    - School year \n",
    "    - Interest in politics\n",
    "    - Affiliated political party\n",
    "    - Healthy diet\n",
    "    - Exercise  \n",
    "- Edges: relationship  \n",
    "- Edge weight: relationship type (close friend, friend, acquaitance)\n",
    "- Edge attributes: call duration, number of sms exchanges"
   ]
  },
  {
   "cell_type": "markdown",
   "metadata": {},
   "source": [
    "### Relationship and attribute data"
   ]
  },
  {
   "cell_type": "code",
   "execution_count": 29,
   "metadata": {},
   "outputs": [],
   "source": [
    "# Relationship data\n",
    "data = pd.read_csv(\"output/relationships.csv\", index_col=0)\n",
    "# Node and edge attributes\n",
    "node_attr = pd.read_csv(\"output/subject_attributes.csv\", index_col=0, na_values=[\"NaN\", \"nan-\"])\n",
    "edge_attr = pd.read_csv(\"output/calls_sms.csv\", index_col=0)"
   ]
  },
  {
   "cell_type": "code",
   "execution_count": 30,
   "metadata": {},
   "outputs": [
    {
     "data": {
      "text/html": [
       "<div>\n",
       "<style scoped>\n",
       "    .dataframe tbody tr th:only-of-type {\n",
       "        vertical-align: middle;\n",
       "    }\n",
       "\n",
       "    .dataframe tbody tr th {\n",
       "        vertical-align: top;\n",
       "    }\n",
       "\n",
       "    .dataframe thead th {\n",
       "        text-align: right;\n",
       "    }\n",
       "</style>\n",
       "<table border=\"1\" class=\"dataframe\">\n",
       "  <thead>\n",
       "    <tr style=\"text-align: right;\">\n",
       "      <th></th>\n",
       "      <th>id.A</th>\n",
       "      <th>id.B</th>\n",
       "      <th>survey.date</th>\n",
       "      <th>social_status</th>\n",
       "    </tr>\n",
       "  </thead>\n",
       "  <tbody>\n",
       "    <tr>\n",
       "      <th>0</th>\n",
       "      <td>47</td>\n",
       "      <td>2</td>\n",
       "      <td>2008-09-09</td>\n",
       "      <td>CloseFriend</td>\n",
       "    </tr>\n",
       "    <tr>\n",
       "      <th>1</th>\n",
       "      <td>2</td>\n",
       "      <td>2</td>\n",
       "      <td>2008-09-09</td>\n",
       "      <td>CloseFriend</td>\n",
       "    </tr>\n",
       "    <tr>\n",
       "      <th>2</th>\n",
       "      <td>57</td>\n",
       "      <td>2</td>\n",
       "      <td>2008-09-09</td>\n",
       "      <td>CloseFriend</td>\n",
       "    </tr>\n",
       "    <tr>\n",
       "      <th>3</th>\n",
       "      <td>73</td>\n",
       "      <td>2</td>\n",
       "      <td>2008-09-09</td>\n",
       "      <td>Friend</td>\n",
       "    </tr>\n",
       "    <tr>\n",
       "      <th>4</th>\n",
       "      <td>55</td>\n",
       "      <td>2</td>\n",
       "      <td>2008-09-09</td>\n",
       "      <td>Friend</td>\n",
       "    </tr>\n",
       "  </tbody>\n",
       "</table>\n",
       "</div>"
      ],
      "text/plain": [
       "   id.A  id.B survey.date social_status\n",
       "0    47     2  2008-09-09   CloseFriend\n",
       "1     2     2  2008-09-09   CloseFriend\n",
       "2    57     2  2008-09-09   CloseFriend\n",
       "3    73     2  2008-09-09        Friend\n",
       "4    55     2  2008-09-09        Friend"
      ]
     },
     "execution_count": 30,
     "metadata": {},
     "output_type": "execute_result"
    }
   ],
   "source": [
    "data.head()"
   ]
  },
  {
   "cell_type": "code",
   "execution_count": 31,
   "metadata": {},
   "outputs": [
    {
     "data": {
      "text/html": [
       "<div>\n",
       "<style scoped>\n",
       "    .dataframe tbody tr th:only-of-type {\n",
       "        vertical-align: middle;\n",
       "    }\n",
       "\n",
       "    .dataframe tbody tr th {\n",
       "        vertical-align: top;\n",
       "    }\n",
       "\n",
       "    .dataframe thead th {\n",
       "        text-align: right;\n",
       "    }\n",
       "</style>\n",
       "<table border=\"1\" class=\"dataframe\">\n",
       "  <thead>\n",
       "    <tr style=\"text-align: right;\">\n",
       "      <th></th>\n",
       "      <th>user_id</th>\n",
       "      <th>year_school</th>\n",
       "      <th>interested_in_politics</th>\n",
       "      <th>preferred_party</th>\n",
       "      <th>survey.month</th>\n",
       "      <th>healthy_diet</th>\n",
       "      <th>exercise</th>\n",
       "    </tr>\n",
       "  </thead>\n",
       "  <tbody>\n",
       "    <tr>\n",
       "      <th>0</th>\n",
       "      <td>1</td>\n",
       "      <td>GRT / Other</td>\n",
       "      <td>Slightly interested</td>\n",
       "      <td>Democrat</td>\n",
       "      <td>2008-09</td>\n",
       "      <td>Very healthy</td>\n",
       "      <td>7.0</td>\n",
       "    </tr>\n",
       "    <tr>\n",
       "      <th>1</th>\n",
       "      <td>1</td>\n",
       "      <td>GRT / Other</td>\n",
       "      <td>Somewhat interested</td>\n",
       "      <td>Independent</td>\n",
       "      <td>2008-10</td>\n",
       "      <td>Very healthy</td>\n",
       "      <td>5.0</td>\n",
       "    </tr>\n",
       "    <tr>\n",
       "      <th>2</th>\n",
       "      <td>1</td>\n",
       "      <td>GRT / Other</td>\n",
       "      <td>Somewhat interested</td>\n",
       "      <td>Independent</td>\n",
       "      <td>2008-11</td>\n",
       "      <td>NaN</td>\n",
       "      <td>NaN</td>\n",
       "    </tr>\n",
       "    <tr>\n",
       "      <th>3</th>\n",
       "      <td>1</td>\n",
       "      <td>GRT / Other</td>\n",
       "      <td>Somewhat interested</td>\n",
       "      <td>NaN</td>\n",
       "      <td>2008-12</td>\n",
       "      <td>Very healthy</td>\n",
       "      <td>4.0</td>\n",
       "    </tr>\n",
       "    <tr>\n",
       "      <th>4</th>\n",
       "      <td>1</td>\n",
       "      <td>GRT / Other</td>\n",
       "      <td>Slightly interested</td>\n",
       "      <td>NaN</td>\n",
       "      <td>2009-03</td>\n",
       "      <td>Very healthy</td>\n",
       "      <td>5.0</td>\n",
       "    </tr>\n",
       "  </tbody>\n",
       "</table>\n",
       "</div>"
      ],
      "text/plain": [
       "   user_id  year_school interested_in_politics preferred_party survey.month  \\\n",
       "0        1  GRT / Other    Slightly interested        Democrat      2008-09   \n",
       "1        1  GRT / Other    Somewhat interested     Independent      2008-10   \n",
       "2        1  GRT / Other    Somewhat interested     Independent      2008-11   \n",
       "3        1  GRT / Other    Somewhat interested             NaN      2008-12   \n",
       "4        1  GRT / Other    Slightly interested             NaN      2009-03   \n",
       "\n",
       "   healthy_diet  exercise  \n",
       "0  Very healthy       7.0  \n",
       "1  Very healthy       5.0  \n",
       "2           NaN       NaN  \n",
       "3  Very healthy       4.0  \n",
       "4  Very healthy       5.0  "
      ]
     },
     "execution_count": 31,
     "metadata": {},
     "output_type": "execute_result"
    }
   ],
   "source": [
    "node_attr.head()"
   ]
  },
  {
   "cell_type": "code",
   "execution_count": 32,
   "metadata": {},
   "outputs": [
    {
     "data": {
      "text/html": [
       "<div>\n",
       "<style scoped>\n",
       "    .dataframe tbody tr th:only-of-type {\n",
       "        vertical-align: middle;\n",
       "    }\n",
       "\n",
       "    .dataframe tbody tr th {\n",
       "        vertical-align: top;\n",
       "    }\n",
       "\n",
       "    .dataframe thead th {\n",
       "        text-align: right;\n",
       "    }\n",
       "</style>\n",
       "<table border=\"1\" class=\"dataframe\">\n",
       "  <thead>\n",
       "    <tr style=\"text-align: right;\">\n",
       "      <th></th>\n",
       "      <th>user.id</th>\n",
       "      <th>date</th>\n",
       "      <th>dest.id</th>\n",
       "      <th>duration</th>\n",
       "      <th>n_sms</th>\n",
       "    </tr>\n",
       "  </thead>\n",
       "  <tbody>\n",
       "    <tr>\n",
       "      <th>0</th>\n",
       "      <td>1.0</td>\n",
       "      <td>2008-10</td>\n",
       "      <td>37</td>\n",
       "      <td>32783.0</td>\n",
       "      <td>2.0</td>\n",
       "    </tr>\n",
       "    <tr>\n",
       "      <th>1</th>\n",
       "      <td>1.0</td>\n",
       "      <td>2008-10</td>\n",
       "      <td>61</td>\n",
       "      <td>3460965.0</td>\n",
       "      <td>432.0</td>\n",
       "    </tr>\n",
       "    <tr>\n",
       "      <th>2</th>\n",
       "      <td>1.0</td>\n",
       "      <td>2008-11</td>\n",
       "      <td>61</td>\n",
       "      <td>100349.0</td>\n",
       "      <td>178.0</td>\n",
       "    </tr>\n",
       "    <tr>\n",
       "      <th>3</th>\n",
       "      <td>1.0</td>\n",
       "      <td>2008-12</td>\n",
       "      <td>37</td>\n",
       "      <td>6.0</td>\n",
       "      <td>NaN</td>\n",
       "    </tr>\n",
       "    <tr>\n",
       "      <th>4</th>\n",
       "      <td>1.0</td>\n",
       "      <td>2008-12</td>\n",
       "      <td>61</td>\n",
       "      <td>45715.0</td>\n",
       "      <td>300.0</td>\n",
       "    </tr>\n",
       "  </tbody>\n",
       "</table>\n",
       "</div>"
      ],
      "text/plain": [
       "   user.id     date  dest.id   duration  n_sms\n",
       "0      1.0  2008-10       37    32783.0    2.0\n",
       "1      1.0  2008-10       61  3460965.0  432.0\n",
       "2      1.0  2008-11       61   100349.0  178.0\n",
       "3      1.0  2008-12       37        6.0    NaN\n",
       "4      1.0  2008-12       61    45715.0  300.0"
      ]
     },
     "execution_count": 32,
     "metadata": {},
     "output_type": "execute_result"
    }
   ],
   "source": [
    "edge_attr.head()"
   ]
  },
  {
   "cell_type": "code",
   "execution_count": 33,
   "metadata": {},
   "outputs": [],
   "source": [
    "# Convert survey date to datetime type and resample\n",
    "data[\"survey.date\"] = pd.to_datetime(data[\"survey.date\"])\n",
    "data[\"survey.date\"] = data[\"survey.date\"].dt.to_period('M')\n",
    "\n",
    "node_attr = node_attr[node_attr[\"survey.month\"].notnull()]\n",
    "node_attr[\"survey.month\"] = pd.to_datetime(node_attr[\"survey.month\"])\n",
    "node_attr[\"survey.month\"] = node_attr[\"survey.month\"].dt.to_period('M')\n",
    "\n",
    "edge_attr[\"date\"] = pd.to_datetime(edge_attr[\"date\"])\n",
    "edge_attr[\"date\"] = edge_attr[\"date\"].dt.to_period('M')"
   ]
  },
  {
   "cell_type": "code",
   "execution_count": 34,
   "metadata": {},
   "outputs": [
    {
     "name": "stdout",
     "output_type": "stream",
     "text": [
      "<PeriodArray>\n",
      "['2008-09', '2008-10', '2008-12', '2009-03', '2009-04', '2009-05']\n",
      "Length: 6, dtype: period[M]\n",
      "<PeriodArray>\n",
      "['2008-09', '2008-10', '2008-11', '2008-12', '2009-03', '2009-04', '2009-06']\n",
      "Length: 7, dtype: period[M]\n",
      "<PeriodArray>\n",
      "['2008-10', '2008-11', '2008-12', '2009-01', '2008-09', '2009-02', '2009-03',\n",
      " '2009-04', '2009-05', '2009-06']\n",
      "Length: 10, dtype: period[M]\n"
     ]
    }
   ],
   "source": [
    "print(data[\"survey.date\"].unique())\n",
    "print(node_attr[\"survey.month\"].unique())\n",
    "print(edge_attr[\"date\"].unique())"
   ]
  },
  {
   "cell_type": "markdown",
   "metadata": {},
   "source": [
    "## Construct NetworkX graph\n",
    "Construct a directed and weighted graph for each survey date"
   ]
  },
  {
   "cell_type": "code",
   "execution_count": 35,
   "metadata": {},
   "outputs": [],
   "source": [
    "# Generate vertex /node and edge attributes from survey data\n",
    "def create_attr_dict(node_data, edge_data):\n",
    "    node_attrs, edge_attrs = {}, {}\n",
    "    columns = [\"year_school\", \"interested_in_politics\", \"preferred_party\", \"healthy_diet\", \"exercise\"]\n",
    "\n",
    "    for i, row in node_data.iterrows():\n",
    "        node_attrs[row[\"user_id\"]] = {}\n",
    "        \n",
    "        for col in columns:\n",
    "            if row[col] == row[col]: \n",
    "                node_attrs[row[\"user_id\"]][col] = row[col]\n",
    "             \n",
    "    for i, row in edge_data.iterrows():\n",
    "        edge_attrs[(int(row[\"user.id\"]), int(row[\"dest.id\"]))] = {}\n",
    "        \n",
    "        if row[\"duration\"] == row[\"duration\"]: \n",
    "            edge_attrs[(int(row[\"user.id\"]), int(row[\"dest.id\"]))][\"call_time\"] = row[\"duration\"]\n",
    "        if row[\"n_sms\"] == row[\"n_sms\"]: \n",
    "            edge_attrs[(int(row[\"user.id\"]), int(row[\"dest.id\"]))][\"n_sms\"] = row[\"n_sms\"]\n",
    "\n",
    "    return node_attrs, edge_attrs"
   ]
  },
  {
   "cell_type": "code",
   "execution_count": 36,
   "metadata": {},
   "outputs": [],
   "source": [
    "def construct_graph(df, n_attr, e_attr):\n",
    "    G = nx.DiGraph()\n",
    "    weights = {\"CloseFriend\": 3, \"Friend\": 2, \"Acquaintance\": 1}\n",
    "    \n",
    "    for i, row in df.iterrows():\n",
    "        # Exclude self loops\n",
    "        if row[\"id.A\"] != row[\"id.B\"]:\n",
    "            edge_weight = weights[row[\"social_status\"]]\n",
    "            G.add_edge(row['id.A'], row['id.B'], weight=edge_weight)\n",
    "            \n",
    "    nx.set_node_attributes(G, n_attr)\n",
    "    nx.set_edge_attributes(G, e_attr)\n",
    "    \n",
    "    return G"
   ]
  },
  {
   "cell_type": "code",
   "execution_count": 37,
   "metadata": {},
   "outputs": [],
   "source": [
    "graphs = {}\n",
    "\n",
    "# Contruct a graph at each survey date\n",
    "for date in data['survey.date'].unique():\n",
    "    # Temporal relationship data\n",
    "    df = data[data['survey.date'] == date]\n",
    "    \n",
    "    # Temporal subject attributes\n",
    "    if str(date) == \"2009-05\":\n",
    "        node_data = node_attr.loc[node_attr[\"survey.month\"] == \"2009-06\"]\n",
    "    else:\n",
    "        node_data = node_attr.loc[node_attr[\"survey.month\"] == date]\n",
    "    edge_data = edge_attr.loc[edge_attr[\"date\"] == date]\n",
    "    \n",
    "    n_attr, e_attr = create_attr_dict(node_data, edge_data)\n",
    "    graphs[date] = {}\n",
    "    graphs[date][\"network\"] = construct_graph(df, n_attr, e_attr)"
   ]
  },
  {
   "cell_type": "markdown",
   "metadata": {},
   "source": [
    "### Compute network statistics"
   ]
  },
  {
   "cell_type": "code",
   "execution_count": 38,
   "metadata": {},
   "outputs": [],
   "source": [
    "def compute_shortest_path(G):\n",
    "    shortest_paths = []\n",
    "    conn_nodes = 0\n",
    "    combs = set(itertools.permutations(list(G.nodes), 2))\n",
    "    \n",
    "    for c in combs:\n",
    "        try:\n",
    "            shortest_paths.append(nx.shortest_path_length(G, c[0], c[1], weight=\"weight\"))\n",
    "            conn_nodes += 1\n",
    "        except:\n",
    "            continue\n",
    "            \n",
    "    avg_shortest_path = sum(shortest_paths) / conn_nodes\n",
    "    diameter = max(shortest_paths)\n",
    "    return avg_shortest_path, diameter"
   ]
  },
  {
   "cell_type": "code",
   "execution_count": 89,
   "metadata": {},
   "outputs": [],
   "source": [
    "def compute_stats(G):\n",
    "    stats = {}\n",
    "    stats[\"n_nodes\"] = len(G.nodes)\n",
    "    stats[\"n_edges\"] = len(G.edges)\n",
    "    \n",
    "    # Degree stats\n",
    "    stats[\"avg_in_degree\"] = sum([i[1] for i in G.in_degree]) / stats[\"n_nodes\"]\n",
    "    stats[\"avg_out_degree\"] = sum([j[1] for j in G.out_degree]) / stats[\"n_nodes\"]\n",
    "    stats[\"avg_degree\"] = sum([j[1] for j in G.degree]) / stats[\"n_nodes\"]\n",
    "    stats[\"max_in_degree\"] = max([j[1] for j in G.in_degree])\n",
    "    stats[\"max_out_degree\"] = max([j[1] for j in G.out_degree])\n",
    "    stats[\"max_degree\"] = max([j[1] for j in G.degree])\n",
    "    \n",
    "    # Average shortest path and diameter\n",
    "    avg_shortest_path, diameter = compute_shortest_path(G)\n",
    "    stats[\"diameter\"] = diameter\n",
    "    stats[\"avg_shortest_path\"] = avg_shortest_path\n",
    "\n",
    "    stats[\"density\"] = nx.density(G)\n",
    "    stats[\"cl_coeff\"] = nx.average_clustering(G)\n",
    "    stats[\"n_triangles\"] = sum([i for i in nx.triangles(G.to_undirected()).values()])\n",
    "    stats[\"n_clique\"] = nx.algorithms.clique.graph_clique_number(G.to_undirected())\n",
    "    stats[\"max_clique_size\"] = len(max_clique(G))\n",
    "    \n",
    "    # Reciprocity\n",
    "    stats[\"reciprocity\"] = nx.reciprocity(G)\n",
    "    \n",
    "    CF = nx.DiGraph(((u, v, e) for u,v,e in G.edges(data=True) if e[\"weight\"] == 3))\n",
    "    stats[\"close_fr_reciprocity\"] = nx.reciprocity(CF)\n",
    "    \n",
    "    F = nx.DiGraph(((u, v, e) for u,v,e in G.edges(data=True) if e[\"weight\"] == 2))\n",
    "    stats[\"fr_reciprocity\"] = nx.reciprocity(F)\n",
    "    \n",
    "    A = nx.DiGraph(((u, v, e) for u,v,e in G.edges(data=True) if e[\"weight\"] == 1))\n",
    "    stats[\"ac_reciprocity\"] = nx.reciprocity(A)\n",
    "    \n",
    "    # Degree assortivity\n",
    "    stats[\"deg_assortivity\"] = nx.degree_assortativity_coefficient(G, weight=\"weight\")\n",
    "\n",
    "    return stats"
   ]
  },
  {
   "cell_type": "code",
   "execution_count": 90,
   "metadata": {},
   "outputs": [
    {
     "name": "stdout",
     "output_type": "stream",
     "text": [
      "2008-09\n",
      "n_nodes: 75\n",
      "n_edges: 2339\n",
      "avg_in_degree: 31.186666666666667\n",
      "avg_out_degree: 31.186666666666667\n",
      "avg_degree: 62.373333333333335\n",
      "max_in_degree: 48\n",
      "max_out_degree: 74\n",
      "max_degree: 122\n",
      "diameter: 5\n",
      "avg_shortest_path: 2.240388275599543\n",
      "density: 0.42144144144144147\n",
      "cl_coeff: 0.6640330574647452\n",
      "n_triangles: 59160\n",
      "n_clique: 30\n",
      "max_clique_size: 15\n",
      "reciprocity: 0.5865754595981189\n",
      "close_fr_reciprocity: 0.5531914893617021\n",
      "fr_reciprocity: 0.3958090803259604\n",
      "ac_reciprocity: 0.22282608695652173\n",
      "deg_assortivity: -0.15122846137634072\n",
      "--------------------\n",
      "\n",
      "2008-10\n",
      "n_nodes: 78\n",
      "n_edges: 1965\n",
      "avg_in_degree: 25.192307692307693\n",
      "avg_out_degree: 25.192307692307693\n",
      "avg_degree: 50.38461538461539\n",
      "max_in_degree: 41\n",
      "max_out_degree: 75\n",
      "max_degree: 115\n",
      "diameter: 5\n",
      "avg_shortest_path: 2.2906305947881442\n",
      "density: 0.3271728271728272\n",
      "cl_coeff: 0.6201757106048561\n",
      "n_triangles: 41805\n",
      "n_clique: 26\n",
      "max_clique_size: 14\n",
      "reciprocity: 0.5180661577608142\n",
      "close_fr_reciprocity: 0.4358974358974359\n",
      "fr_reciprocity: 0.3197158081705151\n",
      "ac_reciprocity: 0.23122529644268774\n",
      "deg_assortivity: -0.16744533630274774\n",
      "--------------------\n",
      "\n",
      "2008-12\n",
      "n_nodes: 82\n",
      "n_edges: 2219\n",
      "avg_in_degree: 27.0609756097561\n",
      "avg_out_degree: 27.0609756097561\n",
      "avg_degree: 54.1219512195122\n",
      "max_in_degree: 48\n",
      "max_out_degree: 80\n",
      "max_degree: 128\n",
      "diameter: 5\n",
      "avg_shortest_path: 2.185473646078609\n",
      "density: 0.33408611863896415\n",
      "cl_coeff: 0.631636316788281\n",
      "n_triangles: 49011\n",
      "n_clique: 25\n",
      "max_clique_size: 12\n",
      "reciprocity: 0.540784136998648\n",
      "close_fr_reciprocity: 0.4380952380952381\n",
      "fr_reciprocity: 0.3832528180354267\n",
      "ac_reciprocity: 0.23259762308998302\n",
      "deg_assortivity: -0.16409825471820302\n",
      "--------------------\n",
      "\n",
      "2009-03\n",
      "n_nodes: 84\n",
      "n_edges: 2096\n",
      "avg_in_degree: 24.952380952380953\n",
      "avg_out_degree: 24.952380952380953\n",
      "avg_degree: 49.904761904761905\n",
      "max_in_degree: 43\n",
      "max_out_degree: 82\n",
      "max_degree: 124\n",
      "diameter: 5\n",
      "avg_shortest_path: 2.2452310717797443\n",
      "density: 0.3006310958118187\n",
      "cl_coeff: 0.6437931288272215\n",
      "n_triangles: 45630\n",
      "n_clique: 23\n",
      "max_clique_size: 13\n",
      "reciprocity: 0.4856870229007634\n",
      "close_fr_reciprocity: 0.37410071942446044\n",
      "fr_reciprocity: 0.31078610603290674\n",
      "ac_reciprocity: 0.2137809187279152\n",
      "deg_assortivity: -0.18047199882364343\n",
      "--------------------\n",
      "\n",
      "2009-04\n",
      "n_nodes: 84\n",
      "n_edges: 2146\n",
      "avg_in_degree: 25.547619047619047\n",
      "avg_out_degree: 25.547619047619047\n",
      "avg_degree: 51.095238095238095\n",
      "max_in_degree: 40\n",
      "max_out_degree: 82\n",
      "max_degree: 122\n",
      "diameter: 5\n",
      "avg_shortest_path: 2.252900688298918\n",
      "density: 0.3078026391279403\n",
      "cl_coeff: 0.6412614171734793\n",
      "n_triangles: 48840\n",
      "n_clique: 25\n",
      "max_clique_size: 12\n",
      "reciprocity: 0.4790307548928239\n",
      "close_fr_reciprocity: 0.31784841075794623\n",
      "fr_reciprocity: 0.336283185840708\n",
      "ac_reciprocity: 0.20477815699658702\n",
      "deg_assortivity: -0.13639878847268375\n",
      "--------------------\n",
      "\n",
      "2009-05\n",
      "n_nodes: 84\n",
      "n_edges: 2141\n",
      "avg_in_degree: 25.488095238095237\n",
      "avg_out_degree: 25.488095238095237\n",
      "avg_degree: 50.976190476190474\n",
      "max_in_degree: 38\n",
      "max_out_degree: 82\n",
      "max_degree: 119\n",
      "diameter: 5\n",
      "avg_shortest_path: 2.1776933839696184\n",
      "density: 0.3070854847963282\n",
      "cl_coeff: 0.6390549074082319\n",
      "n_triangles: 48705\n",
      "n_clique: 24\n",
      "max_clique_size: 11\n",
      "reciprocity: 0.4773470340962167\n",
      "close_fr_reciprocity: 0.2966507177033493\n",
      "fr_reciprocity: 0.2648221343873518\n",
      "ac_reciprocity: 0.2218570254724733\n",
      "deg_assortivity: -0.14990514534789434\n",
      "--------------------\n",
      "\n"
     ]
    }
   ],
   "source": [
    "for date in data['survey.date'].unique():\n",
    "    G = graphs[date][\"network\"]\n",
    "    graphs[date][\"network_stats\"] = compute_stats(G)\n",
    "    \n",
    "    print(date)\n",
    "    for key in graphs[date][\"network_stats\"]:\n",
    "        print(\"{}: {}\".format(key, graphs[date][\"network_stats\"][key]))\n",
    "    print(\"-\"*20 + \"\\n\")"
   ]
  },
  {
   "cell_type": "markdown",
   "metadata": {},
   "source": [
    "### Changes in node and edge numbers - Densification Power Law"
   ]
  },
  {
   "cell_type": "code",
   "execution_count": 156,
   "metadata": {},
   "outputs": [
    {
     "name": "stdout",
     "output_type": "stream",
     "text": [
      "[75, 78, 82, 84, 84, 84]\n",
      "[2339, 1965, 2219, 2096, 2146, 2141]\n"
     ]
    }
   ],
   "source": [
    "n_nodes = [graphs[date][\"network_stats\"][\"n_nodes\"] for date in data['survey.date'].unique()]\n",
    "n_edges = [graphs[date][\"network_stats\"][\"n_edges\"] for date in data['survey.date'].unique()]\n",
    "dia = [graphs[date][\"network_stats\"][\"diameter\"] for date in data['survey.date'].unique()]\n",
    "\n",
    "print(n_nodes)\n",
    "print(n_edges)"
   ]
  },
  {
   "cell_type": "code",
   "execution_count": 71,
   "metadata": {},
   "outputs": [
    {
     "data": {
      "text/plain": [
       "[<matplotlib.lines.Line2D at 0x135146610>]"
      ]
     },
     "execution_count": 71,
     "metadata": {},
     "output_type": "execute_result"
    },
    {
     "data": {
      "image/png": "[encoded data removed]",
      "text/plain": [
       "<Figure size 432x288 with 1 Axes>"
      ]
     },
     "metadata": {
      "needs_background": "light"
     },
     "output_type": "display_data"
    }
   ],
   "source": [
    "plt.plot(n_nodes)"
   ]
  },
  {
   "cell_type": "code",
   "execution_count": 155,
   "metadata": {},
   "outputs": [
    {
     "data": {
      "text/plain": [
       "[<matplotlib.lines.Line2D at 0x139086b90>]"
      ]
     },
     "execution_count": 155,
     "metadata": {},
     "output_type": "execute_result"
    },
    {
     "data": {
      "image/png": "[encoded data removed]",
      "text/plain": [
       "<Figure size 432x288 with 1 Axes>"
      ]
     },
     "metadata": {
      "needs_background": "light"
     },
     "output_type": "display_data"
    }
   ],
   "source": [
    "# Densification Power Law\n",
    "plt.plot(np.log(n_edges) / np.log(n_nodes), marker=\"o\")"
   ]
  },
  {
   "cell_type": "code",
   "execution_count": 159,
   "metadata": {},
   "outputs": [
    {
     "data": {
      "text/plain": [
       "[<matplotlib.lines.Line2D at 0x138ed7c50>]"
      ]
     },
     "execution_count": 159,
     "metadata": {},
     "output_type": "execute_result"
    },
    {
     "data": {
      "image/png": "[encoded data removed]",
      "text/plain": [
       "<Figure size 432x288 with 1 Axes>"
      ]
     },
     "metadata": {
      "needs_background": "light"
     },
     "output_type": "display_data"
    }
   ],
   "source": [
    "# Network diameter\n",
    "plt.plot(dia)"
   ]
  },
  {
   "cell_type": "markdown",
   "metadata": {},
   "source": [
    "### Average and maximum degrees over time"
   ]
  },
  {
   "cell_type": "code",
   "execution_count": 70,
   "metadata": {},
   "outputs": [
    {
     "data": {
      "text/plain": [
       "<matplotlib.legend.Legend at 0x13856c9d0>"
      ]
     },
     "execution_count": 70,
     "metadata": {},
     "output_type": "execute_result"
    },
    {
     "data": {
      "image/png": "[encoded data removed]",
      "text/plain": [
       "<Figure size 432x288 with 1 Axes>"
      ]
     },
     "metadata": {
      "needs_background": "light"
     },
     "output_type": "display_data"
    }
   ],
   "source": [
    "plt.plot([graphs[date][\"network_stats\"][\"avg_degree\"] for date in data['survey.date'].unique()])\n",
    "plt.plot([graphs[date][\"network_stats\"][\"max_in_degree\"] for date in data['survey.date'].unique()])\n",
    "plt.plot([graphs[date][\"network_stats\"][\"max_out_degree\"] for date in data['survey.date'].unique()])\n",
    "\n",
    "plt.legend([\"Average degree\", \"Maximum in-degree\", \"Maximum out-degree\"])"
   ]
  },
  {
   "cell_type": "markdown",
   "metadata": {},
   "source": [
    "### Cliques and triangles"
   ]
  },
  {
   "cell_type": "code",
   "execution_count": 86,
   "metadata": {},
   "outputs": [
    {
     "data": {
      "text/plain": [
       "<matplotlib.legend.Legend at 0x13786a190>"
      ]
     },
     "execution_count": 86,
     "metadata": {},
     "output_type": "execute_result"
    },
    {
     "data": {
      "image/png": "[encoded data removed]",
      "text/plain": [
       "<Figure size 432x288 with 1 Axes>"
      ]
     },
     "metadata": {
      "needs_background": "light"
     },
     "output_type": "display_data"
    }
   ],
   "source": [
    "plt.plot([graphs[date][\"network_stats\"][\"n_clique\"] for date in data['survey.date'].unique()])\n",
    "plt.plot([graphs[date][\"network_stats\"][\"max_clique_size\"] for date in data['survey.date'].unique()])\n",
    "\n",
    "plt.legend([\"Number of cliques\", \"Maximum clique size\"])"
   ]
  },
  {
   "cell_type": "code",
   "execution_count": 87,
   "metadata": {},
   "outputs": [
    {
     "data": {
      "text/plain": [
       "[<matplotlib.lines.Line2D at 0x1389dd710>]"
      ]
     },
     "execution_count": 87,
     "metadata": {},
     "output_type": "execute_result"
    },
    {
     "data": {
      "image/png": "[encoded data removed]",
      "text/plain": [
       "<Figure size 432x288 with 1 Axes>"
      ]
     },
     "metadata": {
      "needs_background": "light"
     },
     "output_type": "display_data"
    }
   ],
   "source": [
    "plt.plot([graphs[date][\"network_stats\"][\"n_triangles\"] for date in data['survey.date'].unique()])"
   ]
  },
  {
   "cell_type": "markdown",
   "metadata": {},
   "source": [
    "### Clustering coefficient"
   ]
  },
  {
   "cell_type": "code",
   "execution_count": 88,
   "metadata": {},
   "outputs": [
    {
     "data": {
      "text/plain": [
       "[<matplotlib.lines.Line2D at 0x138850dd0>]"
      ]
     },
     "execution_count": 88,
     "metadata": {},
     "output_type": "execute_result"
    },
    {
     "data": {
      "image/png": "[encoded data removed]",
      "text/plain": [
       "<Figure size 432x288 with 1 Axes>"
      ]
     },
     "metadata": {
      "needs_background": "light"
     },
     "output_type": "display_data"
    }
   ],
   "source": [
    "plt.plot([graphs[date][\"network_stats\"][\"cl_coeff\"] for date in data['survey.date'].unique()])"
   ]
  },
  {
   "cell_type": "markdown",
   "metadata": {},
   "source": [
    "### Reciprocity"
   ]
  },
  {
   "cell_type": "code",
   "execution_count": 93,
   "metadata": {},
   "outputs": [
    {
     "data": {
      "text/plain": [
       "<matplotlib.legend.Legend at 0x138cd8cd0>"
      ]
     },
     "execution_count": 93,
     "metadata": {},
     "output_type": "execute_result"
    },
    {
     "data": {
      "image/png": "[encoded data removed]",
      "text/plain": [
       "<Figure size 432x288 with 1 Axes>"
      ]
     },
     "metadata": {
      "needs_background": "light"
     },
     "output_type": "display_data"
    }
   ],
   "source": [
    "plt.plot([graphs[date][\"network_stats\"][\"close_fr_reciprocity\"] for date in data['survey.date'].unique()])\n",
    "plt.plot([graphs[date][\"network_stats\"][\"fr_reciprocity\"] for date in data['survey.date'].unique()])\n",
    "plt.plot([graphs[date][\"network_stats\"][\"ac_reciprocity\"] for date in data['survey.date'].unique()])\n",
    "\n",
    "plt.legend([\"Close friends\", \"Friends\", \"Acquaintance\"])"
   ]
  },
  {
   "cell_type": "markdown",
   "metadata": {},
   "source": [
    "## Centrality"
   ]
  },
  {
   "cell_type": "code",
   "execution_count": 102,
   "metadata": {},
   "outputs": [],
   "source": [
    "def compute_centrality(G):\n",
    "    # most influential vertex\n",
    "    print(\"Degree centrality - most influential vertex\")\n",
    "    most_influential = nx.degree_centrality(G)\n",
    "    for w in sorted(most_influential, key=most_influential.get, reverse=True)[:5]:\n",
    "        print(w, most_influential[w])\n",
    "    print(\"-\"*20 + \"\\n\")\n",
    "\n",
    "    # most important vertex\n",
    "    print(\"Eigenvector centrality - most important vertex\")\n",
    "    most_important = nx.eigenvector_centrality(G)\n",
    "    for w in sorted(most_important, key=most_important.get, reverse=True)[:5]:\n",
    "        print(w, most_important[w])\n",
    "    print(\"-\"*20 + \"\\n\")\n",
    "    \n",
    "    # best connector\n",
    "    print(\"In-betweenness centrality - best connector\")\n",
    "    best_connector = nx.betweenness_centrality(G)\n",
    "    for w in sorted(best_connector, key=best_connector.get, reverse=True)[:5]:\n",
    "        print(w, best_connector[w])\n",
    "    print(\"-\"*20 + \"\\n\")\n",
    "    \n",
    "    return"
   ]
  },
  {
   "cell_type": "code",
   "execution_count": 103,
   "metadata": {},
   "outputs": [
    {
     "name": "stdout",
     "output_type": "stream",
     "text": [
      "2008-09\n",
      "Degree centrality - most influential vertex\n",
      "23 1.6486486486486487\n",
      "28 1.5810810810810811\n",
      "14 1.5810810810810811\n",
      "65 1.5405405405405406\n",
      "9 1.4864864864864866\n",
      "--------------------\n",
      "\n",
      "Eigenvector centrality - most important vertex\n",
      "23 0.17539969647227077\n",
      "44 0.16358630445547498\n",
      "20 0.1618379451626123\n",
      "14 0.15931232780735838\n",
      "28 0.15705905389554542\n",
      "--------------------\n",
      "\n",
      "In-betweenness centrality - best connector\n",
      "63 0.03999635274582023\n",
      "23 0.039320993124347385\n",
      "9 0.03931790469852702\n",
      "28 0.03246051300584799\n",
      "14 0.027806120721196117\n",
      "--------------------\n",
      "\n",
      "2008-10\n",
      "Degree centrality - most influential vertex\n",
      "23 1.4935064935064937\n",
      "28 1.4285714285714286\n",
      "14 1.4285714285714286\n",
      "62 1.3506493506493507\n",
      "65 1.3376623376623378\n",
      "--------------------\n",
      "\n",
      "Eigenvector centrality - most important vertex\n",
      "23 0.1682918427808833\n",
      "40 0.16245326290689974\n",
      "46 0.15975422917354537\n",
      "20 0.15912621242821995\n",
      "18 0.15865187074930723\n",
      "--------------------\n",
      "\n",
      "In-betweenness centrality - best connector\n",
      "23 0.050293386214448746\n",
      "28 0.04689077781457823\n",
      "21 0.04471975680909523\n",
      "14 0.03715875802774799\n",
      "44 0.026669221169975967\n",
      "--------------------\n",
      "\n",
      "2008-12\n",
      "Degree centrality - most influential vertex\n",
      "23 1.5802469135802468\n",
      "14 1.4814814814814814\n",
      "62 1.419753086419753\n",
      "22 1.3950617283950617\n",
      "65 1.3950617283950617\n",
      "--------------------\n",
      "\n",
      "Eigenvector centrality - most important vertex\n",
      "23 0.18038472940491457\n",
      "40 0.17021810432623932\n",
      "14 0.16134388283326215\n",
      "44 0.15803942828121567\n",
      "46 0.15333405629530245\n",
      "--------------------\n",
      "\n",
      "In-betweenness centrality - best connector\n",
      "23 0.06065578326202204\n",
      "28 0.03054854000259051\n",
      "37 0.029671742338797685\n",
      "44 0.028734804985061424\n",
      "9 0.027526291823530703\n",
      "--------------------\n",
      "\n",
      "2009-03\n",
      "Degree centrality - most influential vertex\n",
      "23 1.493975903614458\n",
      "14 1.4096385542168675\n",
      "18 1.3975903614457832\n",
      "62 1.3734939759036144\n",
      "28 1.3614457831325302\n",
      "--------------------\n",
      "\n",
      "Eigenvector centrality - most important vertex\n",
      "23 0.1747982839717235\n",
      "40 0.16085782908699553\n",
      "79 0.15501109275287855\n",
      "68 0.15279055687904514\n",
      "52 0.15137078661755082\n",
      "--------------------\n",
      "\n",
      "In-betweenness centrality - best connector\n",
      "23 0.05429326089819576\n",
      "62 0.027158846595677837\n",
      "28 0.025130830703285475\n",
      "52 0.022853489638242443\n",
      "14 0.022744777357677628\n",
      "--------------------\n",
      "\n",
      "2009-04\n",
      "Degree centrality - most influential vertex\n",
      "23 1.4698795180722892\n",
      "14 1.421686746987952\n",
      "62 1.4096385542168675\n",
      "80 1.3614457831325302\n",
      "65 1.349397590361446\n",
      "--------------------\n",
      "\n",
      "Eigenvector centrality - most important vertex\n",
      "23 0.15974358053327758\n",
      "14 0.15074281077942078\n",
      "52 0.14957573796847987\n",
      "62 0.1422302667722218\n",
      "79 0.14114067027906235\n",
      "--------------------\n",
      "\n",
      "In-betweenness centrality - best connector\n",
      "23 0.042548336190709954\n",
      "52 0.034573975001636344\n",
      "44 0.02926933989099111\n",
      "62 0.02694029242017213\n",
      "14 0.026130241264955924\n",
      "--------------------\n",
      "\n",
      "2009-05\n",
      "Degree centrality - most influential vertex\n",
      "23 1.4337349397590362\n",
      "14 1.3975903614457832\n",
      "62 1.3614457831325302\n",
      "28 1.349397590361446\n",
      "43 1.3373493975903614\n",
      "--------------------\n",
      "\n",
      "Eigenvector centrality - most important vertex\n",
      "79 0.16007627674735217\n",
      "23 0.1563396230059735\n",
      "52 0.15503648332027437\n",
      "2 0.15359097018044685\n",
      "21 0.1466872207526553\n",
      "--------------------\n",
      "\n",
      "In-betweenness centrality - best connector\n",
      "52 0.033038739194510724\n",
      "23 0.032451258160248506\n",
      "28 0.030436337675133297\n",
      "14 0.02427826172185901\n",
      "44 0.021466046534404155\n",
      "--------------------\n",
      "\n"
     ]
    }
   ],
   "source": [
    "for date in data['survey.date'].unique():\n",
    "    G = graphs[date][\"network\"]\n",
    "    \n",
    "    # print date and top 3 central vertices\n",
    "    print(date)\n",
    "    compute_centrality(G)"
   ]
  },
  {
   "cell_type": "code",
   "execution_count": 124,
   "metadata": {},
   "outputs": [
    {
     "name": "stdout",
     "output_type": "stream",
     "text": [
      "Vertex 23\n",
      "# of close friends: 11\n",
      "# of friends: 7\n",
      "# of acquaintances: 63\n",
      "Sophomore\n"
     ]
    }
   ],
   "source": [
    "# Vertex 23 - number of friends and close frieends\n",
    "print(\"Vertex 23\")\n",
    "print(\"# of close friends: {}\".format(len([G[23][key][\"weight\"] for key in G[23] if G[23][key][\"weight\"]==3])))\n",
    "print(\"# of friends: {}\".format(len([G[23][key][\"weight\"] for key in G[23] if G[23][key][\"weight\"]==2])))\n",
    "print(\"# of acquaintances: {}\".format(len([G[23][key][\"weight\"] for key in G[23] if G[23][key][\"weight\"]==1])))\n",
    "print(nx.get_node_attributes(G, \"year_school\")[23])"
   ]
  },
  {
   "cell_type": "markdown",
   "metadata": {},
   "source": [
    "## Assortativity\n",
    "Assortativity measures the similarity of connections in the graph with respect to the given attribute."
   ]
  },
  {
   "cell_type": "code",
   "execution_count": 128,
   "metadata": {},
   "outputs": [
    {
     "name": "stdout",
     "output_type": "stream",
     "text": [
      "2008-09\n",
      "degree: -0.15122846137634072\n",
      "year_school: 0.05325706337477187\n",
      "interested_in_politics: -0.015666947295636436\n",
      "preferred_party: -0.009050552426683747\n",
      "healthy_diet: -0.013070483836095497\n",
      "exercise: -0.011589184945611916\n",
      "--------------------\n",
      "\n",
      "2008-10\n",
      "degree: -0.16744533630274774\n",
      "year_school: 0.037148522076438276\n",
      "interested_in_politics: -0.020175565555216646\n",
      "preferred_party: -0.003045597043518389\n",
      "healthy_diet: -0.012994527135112713\n",
      "exercise: -0.010896298641866612\n",
      "--------------------\n",
      "\n",
      "2008-12\n",
      "degree: -0.16409825471820302\n",
      "year_school: 0.051253426110306824\n",
      "interested_in_politics: 0.0027787792978376247\n",
      "preferred_party: nan\n",
      "healthy_diet: -0.001287037860850688\n",
      "exercise: -0.004470423471325493\n",
      "--------------------\n",
      "\n",
      "2009-03\n",
      "degree: -0.18047199882364343\n",
      "year_school: 0.03812442476696413\n",
      "interested_in_politics: -0.006702181426638612\n",
      "preferred_party: nan\n",
      "healthy_diet: -0.0031000880560658793\n",
      "exercise: -0.01613926421483358\n",
      "--------------------\n",
      "\n",
      "2009-04\n",
      "degree: -0.13639878847268375\n",
      "year_school: 0.033990531129192765\n",
      "interested_in_politics: -0.012600826895464512\n",
      "preferred_party: nan\n",
      "healthy_diet: -0.0024354880296098033\n",
      "exercise: -0.017105433237106307\n",
      "--------------------\n",
      "\n",
      "2009-05\n",
      "degree: -0.14990514534789434\n",
      "year_school: 0.02774374809819655\n",
      "interested_in_politics: -0.014300622609787074\n",
      "preferred_party: nan\n",
      "healthy_diet: -0.0032230008184402446\n",
      "exercise: -0.011318480896667664\n",
      "--------------------\n",
      "\n"
     ]
    }
   ],
   "source": [
    "columns = [\"year_school\", \"interested_in_politics\", \"preferred_party\", \"healthy_diet\", \"exercise\"]\n",
    "\n",
    "for date in data['survey.date'].unique():\n",
    "    G = graphs[date][\"network\"]\n",
    "    \n",
    "    # print date and attribute assortativity coefficient\n",
    "    print(date)\n",
    "    print(\"degree: {}\".format(nx.degree_assortativity_coefficient(G, weight=\"weight\")))\n",
    "    for col in columns:\n",
    "        print(\"{}: {}\".format(col, nx.attribute_assortativity_coefficient(G, col)))\n",
    "    print(\"-\"*20 + \"\\n\")"
   ]
  },
  {
   "cell_type": "markdown",
   "metadata": {},
   "source": [
    "## Community Detection"
   ]
  },
  {
   "cell_type": "markdown",
   "metadata": {},
   "source": [
    "### Girvan - Newman Method\n",
    "The Girvan - Newman Method uses edge betweenness centrality by default."
   ]
  },
  {
   "cell_type": "code",
   "execution_count": 153,
   "metadata": {},
   "outputs": [
    {
     "name": "stdout",
     "output_type": "stream",
     "text": [
      "2008-09: (74, 1)\n",
      "\n",
      "2008-10: (77, 1)\n",
      "\n",
      "2008-12: (81, 1)\n",
      "\n",
      "2009-03: (83, 1)\n",
      "\n",
      "2009-04: (83, 1)\n",
      "\n",
      "2009-05: (83, 1)\n",
      "\n"
     ]
    }
   ],
   "source": [
    "GN_n_comm = []\n",
    "GN_max_comm_size = []\n",
    "\n",
    "for date in data['survey.date'].unique():\n",
    "    G = graphs[date][\"network\"]\n",
    "    # Girvan–Newman method\n",
    "    gn_communities = community.centrality.girvan_newman(G)\n",
    "    \n",
    "    # Print the communities and their size\n",
    "    communities = tuple(len(sorted(c)) for c in next(gn_communities))\n",
    "    print(\"{}: {}\\n\".format(date, communities))\n",
    "    \n",
    "    GN_n_comm.append(len(communities))\n",
    "    GN_max_comm_size.append(max(communities))"
   ]
  },
  {
   "cell_type": "markdown",
   "metadata": {},
   "source": [
    "### Clauset-Newman-Moore greedy modularity maximization"
   ]
  },
  {
   "cell_type": "code",
   "execution_count": 147,
   "metadata": {},
   "outputs": [
    {
     "name": "stdout",
     "output_type": "stream",
     "text": [
      "2008-09: (19, 11, 6, 6, 4, 4, 3, 3, 2, 1, 1, 1, 1, 1, 1, 1, 1, 1, 1, 1, 1, 1, 1, 1, 1, 1)\n",
      "\n",
      "2008-10: (16, 15, 9, 9, 6, 6, 4, 2, 2, 1, 1, 1, 1, 1, 1, 1, 1, 1)\n",
      "\n",
      "2008-12: (18, 14, 10, 8, 7, 7, 2, 1, 1, 1, 1, 1, 1, 1, 1, 1, 1, 1, 1, 1, 1, 1, 1)\n",
      "\n",
      "2009-03: (14, 13, 10, 10, 9, 8, 6, 3, 3, 1, 1, 1, 1, 1, 1, 1, 1)\n",
      "\n",
      "2009-04: (24, 13, 11, 9, 5, 5, 2, 2, 1, 1, 1, 1, 1, 1, 1, 1, 1, 1, 1, 1, 1)\n",
      "\n",
      "2009-05: (19, 13, 10, 8, 7, 7, 5, 2, 2, 2, 1, 1, 1, 1, 1, 1, 1, 1, 1)\n",
      "\n"
     ]
    }
   ],
   "source": [
    "n_comm = []\n",
    "max_comm_size = []\n",
    "\n",
    "for date in data[\"survey.date\"].unique():\n",
    "    G = graphs[date][\"network\"]\n",
    "    communities = tuple(len(c) for c in community.modularity_max.greedy_modularity_communities(\n",
    "        G.to_undirected(), weight=\"weight\"))\n",
    "    \n",
    "    # Print the community sizes\n",
    "    print(\"{}: {}\\n\".format(date, communities))\n",
    "    \n",
    "    n_comm.append(len(communities))\n",
    "    max_comm_size.append(max(communities))"
   ]
  },
  {
   "cell_type": "markdown",
   "metadata": {},
   "source": [
    "### Clauset-Newman-Moore method \n",
    "Modularity maximization with call times and sms exchanges as edge attributes"
   ]
  },
  {
   "cell_type": "code",
   "execution_count": 149,
   "metadata": {},
   "outputs": [
    {
     "name": "stdout",
     "output_type": "stream",
     "text": [
      "2008-09: (62, 1, 1, 1, 1, 1, 1, 1, 1, 1, 1, 1, 1, 1)\n",
      "\n",
      "2008-10: (16, 7, 3, 2, 2, 1, 1, 1, 1, 1, 1, 1, 1, 1, 1, 1, 1, 1, 1, 1, 1, 1, 1, 1, 1, 1, 1, 1, 1, 1, 1, 1, 1, 1, 1, 1, 1, 1, 1, 1, 1, 1, 1, 1, 1, 1, 1, 1, 1, 1, 1, 1, 1)\n",
      "\n",
      "2008-12: (21, 3, 3, 2, 2, 2, 2, 1, 1, 1, 1, 1, 1, 1, 1, 1, 1, 1, 1, 1, 1, 1, 1, 1, 1, 1, 1, 1, 1, 1, 1, 1, 1, 1, 1, 1, 1, 1, 1, 1, 1, 1, 1, 1, 1, 1, 1, 1, 1, 1, 1, 1, 1, 1)\n",
      "\n",
      "2009-03: (22, 6, 5, 4, 2, 2, 1, 1, 1, 1, 1, 1, 1, 1, 1, 1, 1, 1, 1, 1, 1, 1, 1, 1, 1, 1, 1, 1, 1, 1, 1, 1, 1, 1, 1, 1, 1, 1, 1, 1, 1, 1, 1, 1, 1, 1, 1, 1, 1)\n",
      "\n",
      "2009-04: (39, 3, 2, 1, 1, 1, 1, 1, 1, 1, 1, 1, 1, 1, 1, 1, 1, 1, 1, 1, 1, 1, 1, 1, 1, 1, 1, 1, 1, 1, 1, 1, 1, 1, 1, 1, 1, 1, 1, 1, 1, 1, 1)\n",
      "\n",
      "2009-05: (42, 2, 2, 1, 1, 1, 1, 1, 1, 1, 1, 1, 1, 1, 1, 1, 1, 1, 1, 1, 1, 1, 1, 1, 1, 1, 1, 1, 1, 1, 1, 1, 1, 1, 1, 1, 1, 1, 1, 1, 1)\n",
      "\n"
     ]
    }
   ],
   "source": [
    "n_comm_2 = []\n",
    "max_comm_size_2 = []\n",
    "\n",
    "for date in data[\"survey.date\"].unique():\n",
    "    G = graphs[date][\"network\"]\n",
    "    communities = tuple(len(c) for c in community.modularity_max.greedy_modularity_communities(\n",
    "        G.to_undirected(), weight=\"call_time\"))\n",
    "    \n",
    "    # Print the community sizes\n",
    "    print(\"{}: {}\\n\".format(date, communities))\n",
    "\n",
    "    n_comm_2.append(len(communities))\n",
    "    max_comm_size_2.append(max(communities))"
   ]
  },
  {
   "cell_type": "code",
   "execution_count": 150,
   "metadata": {},
   "outputs": [
    {
     "name": "stdout",
     "output_type": "stream",
     "text": [
      "2008-09: (74, 1)\n",
      "\n",
      "2008-10: (67, 2, 1, 1, 1, 1, 1, 1, 1, 1, 1)\n",
      "\n",
      "2008-12: (71, 3, 2, 1, 1, 1, 1, 1, 1)\n",
      "\n",
      "2009-03: (77, 2, 1, 1, 1, 1, 1)\n",
      "\n",
      "2009-04: (80, 2, 1, 1)\n",
      "\n",
      "2009-05: (80, 2, 1, 1)\n",
      "\n"
     ]
    }
   ],
   "source": [
    "n_comm_3 = []\n",
    "max_comm_size_3 = []\n",
    "\n",
    "for date in data[\"survey.date\"].unique():\n",
    "    G = graphs[date][\"network\"]\n",
    "    communities = tuple(len(c) for c in community.modularity_max.greedy_modularity_communities(\n",
    "        G.to_undirected(), weight=\"n_sms\"))\n",
    "    \n",
    "    \n",
    "    # Print the community sizes\n",
    "    print(\"{}: {}\\n\".format(date, communities))\n",
    "    n_comm_3.append(len(communities))\n",
    "    max_comm_size_3.append(max(communities))"
   ]
  },
  {
   "cell_type": "markdown",
   "metadata": {},
   "source": [
    "### Community plots"
   ]
  },
  {
   "cell_type": "code",
   "execution_count": 145,
   "metadata": {},
   "outputs": [
    {
     "data": {
      "text/plain": [
       "<matplotlib.legend.Legend at 0x138b26c10>"
      ]
     },
     "execution_count": 145,
     "metadata": {},
     "output_type": "execute_result"
    },
    {
     "data": {
      "image/png": "[encoded data removed]",
      "text/plain": [
       "<Figure size 432x288 with 1 Axes>"
      ]
     },
     "metadata": {
      "needs_background": "light"
     },
     "output_type": "display_data"
    }
   ],
   "source": [
    "# Number of communities\n",
    "plt.plot(GN_n_comm)\n",
    "plt.plot(n_comm)\n",
    "plt.plot(n_comm_2)\n",
    "plt.plot(n_comm_3)\n",
    "\n",
    "plt.legend([\"GN method\", \"CNM method\", \"CNM method - call times\", \"CNM method - # of sms\"])"
   ]
  },
  {
   "cell_type": "code",
   "execution_count": 154,
   "metadata": {},
   "outputs": [
    {
     "data": {
      "text/plain": [
       "<matplotlib.legend.Legend at 0x138f7ad90>"
      ]
     },
     "execution_count": 154,
     "metadata": {},
     "output_type": "execute_result"
    },
    {
     "data": {
      "image/png": "[encoded data removed]",
      "text/plain": [
       "<Figure size 432x288 with 1 Axes>"
      ]
     },
     "metadata": {
      "needs_background": "light"
     },
     "output_type": "display_data"
    }
   ],
   "source": [
    "# Maximum community size\n",
    "plt.plot(GN_max_comm_size)\n",
    "plt.plot(max_comm_size)\n",
    "plt.plot(max_comm_size_2)\n",
    "plt.plot(max_comm_size_3)\n",
    "\n",
    "plt.legend([\"GN method\", \"CNM method\", \"CNM method - call times\", \"CNM method - # of sms\"])"
   ]
  },
  {
   "cell_type": "code",
   "execution_count": null,
   "metadata": {},
   "outputs": [],
   "source": []
  }
 ],
 "metadata": {
  "kernelspec": {
   "display_name": "Python 3",
   "language": "python",
   "name": "python3"
  },
  "language_info": {
   "codemirror_mode": {
    "name": "ipython",
    "version": 3
   },
   "file_extension": ".py",
   "mimetype": "text/x-python",
   "name": "python",
   "nbconvert_exporter": "python",
   "pygments_lexer": "ipython3",
   "version": "3.7.7"
  }
 },
 "nbformat": 4,
 "nbformat_minor": 4
}
